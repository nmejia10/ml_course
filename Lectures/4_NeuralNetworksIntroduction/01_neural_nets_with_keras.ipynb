{
 "cells": [
  {
   "cell_type": "markdown",
   "metadata": {},
   "source": [
    "ML Course, Bogotá, Colombia  (&copy; Josh Bloom; June 2019)"
   ]
  },
  {
   "cell_type": "code",
   "execution_count": 1,
   "metadata": {},
   "outputs": [
    {
     "data": {
      "text/html": [
       "<style>\n",
       "\n",
       ".rendered_html\n",
       "{\n",
       "  color: #2C5494;\n",
       "  font-family: Ubuntu;\n",
       "  font-size: 140%;\n",
       "  line-height: 1.1;\n",
       "  margin: 0.5em 0;\n",
       "  }\n",
       "\n",
       ".talk_title\n",
       "{\n",
       "  color: #498AF3;\n",
       "  font-size: 250%;\n",
       "  font-weight:bold;\n",
       "  line-height: 1.2; \n",
       "  margin: 10px 50px 10px;\n",
       "  }\n",
       "\n",
       ".subtitle\n",
       "{\n",
       "  color: #386BBC;\n",
       "  font-size: 180%;\n",
       "  font-weight:bold;\n",
       "  line-height: 1.2; \n",
       "  margin: 20px 50px 20px;\n",
       "  }\n",
       "\n",
       ".slide-header, p.slide-header\n",
       "{\n",
       "  color: #498AF3;\n",
       "  font-size: 200%;\n",
       "  font-weight:bold;\n",
       "  margin: 0px 20px 10px;\n",
       "  page-break-before: always;\n",
       "  text-align: center;\n",
       "  }\n",
       "\n",
       ".rendered_html h1\n",
       "{\n",
       "  color: #498AF3;\n",
       "  line-height: 1.2; \n",
       "  margin: 0.15em 0em 0.5em;\n",
       "  page-break-before: always;\n",
       "  text-align: center;\n",
       "  }\n",
       "\n",
       "\n",
       ".rendered_html h2\n",
       "{ \n",
       "  color: #386BBC;\n",
       "  line-height: 1.2;\n",
       "  margin: 1.1em 0em 0.5em;\n",
       "  }\n",
       "\n",
       ".rendered_html h3\n",
       "{ \n",
       "  font-size: 100%;\n",
       "  line-height: 1.2;\n",
       "  margin: 1.1em 0em 0.5em;\n",
       "  }\n",
       "\n",
       ".rendered_html li\n",
       "{\n",
       "  line-height: 1.8;\n",
       "  }\n",
       "\n",
       ".input_prompt, .CodeMirror-lines, .output_area\n",
       "{\n",
       "  font-family: Consolas;\n",
       "  font-size: 120%;\n",
       "  }\n",
       "\n",
       ".gap-above\n",
       "{\n",
       "  padding-top: 200px;\n",
       "  }\n",
       "\n",
       ".gap01\n",
       "{\n",
       "  padding-top: 10px;\n",
       "  }\n",
       "\n",
       ".gap05\n",
       "{\n",
       "  padding-top: 50px;\n",
       "  }\n",
       "\n",
       ".gap1\n",
       "{\n",
       "  padding-top: 100px;\n",
       "  }\n",
       "\n",
       ".gap2\n",
       "{\n",
       "  padding-top: 200px;\n",
       "  }\n",
       "\n",
       ".gap3\n",
       "{\n",
       "  padding-top: 300px;\n",
       "  }\n",
       "\n",
       ".emph\n",
       "{\n",
       "  color: #386BBC;\n",
       "  }\n",
       "\n",
       ".warn\n",
       "{\n",
       "  color: red;\n",
       "  }\n",
       "\n",
       ".center\n",
       "{\n",
       "  text-align: center;\n",
       "  }\n",
       "\n",
       ".nb_link\n",
       "{\n",
       "    padding-bottom: 0.5em;\n",
       "}\n",
       "\n",
       "</style>"
      ],
      "text/plain": [
       "<IPython.core.display.HTML object>"
      ]
     },
     "metadata": {},
     "output_type": "display_data"
    }
   ],
   "source": [
    "%run ../talktools.py"
   ]
  },
  {
   "cell_type": "markdown",
   "metadata": {},
   "source": [
    "<div class=\"alert alert-info\">sklearn is not built for deep/complex networks such as required in covnets (as we'll see later on). We must go to specialized software (and potentially specialized hardware)</div>"
   ]
  },
  {
   "cell_type": "markdown",
   "metadata": {},
   "source": [
    "\n",
    "# Deep Learning Frameworks\n",
    "\n",
    "Almost all frameworks written in low-level C++/C with Python (or other scripting bindings)\n",
    "\n",
    "### Low-level frameworks\n",
    "\n",
    "   - Tensorflow (Google) Nov 2015\n",
    "   - Theano\n",
    "   - Caffe (Berkeley)\n",
    "   - Torch (Lua)\n",
    "   - pytorch (Python)\n",
    "   - CNTK (Microsoft)\n",
    "   - Chainer\n",
    "   - PaddlePaddle (Baidu) Aug 2016\n",
    "   \n",
    "### High level frameworks (Python)\n",
    "\n",
    "   - Keras (atop Tensorflow, Theano)\n",
    "   - TFLearn \n",
    "   - nolearn\n",
    "   - SkFlow (part of tensorflow)\n",
    "   - [Lasagne](http://lasagne.readthedocs.io/en/latest/index.html) (atop Theano)\n",
    "   \n",
    "<img src=\"https://pbs.twimg.com/media/DX0lfBNU8AEs8KG.png:large\" width=\"75%\">\n",
    "Source: https://twitter.com/fchollet/status/971863128341323776\n",
    "\n",
    "<blockquote class=\"twitter-tweet\" data-lang=\"en\"><p lang=\"en\" dir=\"ltr\">TensorFlow is the platform of choice for deep learning in the research community. These are deep learning framework mentions on arXiv over the past 3 months <img src=\"https://pbs.twimg.com/media/DXy_uc0VAAAIhKG.jpg:small\">\n",
    "\n",
    "&mdash; François Chollet (@fchollet) <a href=\"https://twitter.com/fchollet/status/971863128341323776?ref_src=twsrc%5Etfw\">March 8, 2018</a></blockquote>\n",
    "<script async src=\"https://platform.twitter.com/widgets.js\" charset=\"utf-8\"></script>\n",
    "\n",
    "\n",
    "see also: https://github.com/mbadry1/Top-Deep-Learning"
   ]
  },
  {
   "cell_type": "markdown",
   "metadata": {},
   "source": [
    "# Keras"
   ]
  },
  {
   "cell_type": "markdown",
   "metadata": {},
   "source": [
    "Let's load up the California housing data as in the previous notebook."
   ]
  },
  {
   "cell_type": "code",
   "execution_count": 45,
   "metadata": {},
   "outputs": [],
   "source": [
    "import math\n",
    "\n",
    "import numpy as np\n",
    "import matplotlib.pyplot as plt\n",
    "%matplotlib inline\n",
    "import pandas as pd\n",
    "\n",
    "from sklearn import datasets\n",
    "from sklearn.preprocessing import StandardScaler  \n",
    "\n",
    "\n",
    "cal_house = datasets.california_housing\n",
    "cal_data = cal_house.fetch_california_housing()\n",
    "X = cal_data['data']   # 8 features \n",
    "Y = cal_data['target'] # response (median house price)\n",
    "\n",
    "half = math.floor(len(Y)/2)\n",
    "train_X = X[:half]\n",
    "train_Y = Y[:half]\n",
    "test_X = X[half:]\n",
    "test_Y = Y[half:]\n",
    "\n",
    "\n",
    "scaler = StandardScaler()  \n",
    "\n",
    "# Don't cheat - fit only on training data\n",
    "scaler.fit(train_X)  \n",
    "train_X = scaler.transform(train_X)  \n",
    "\n",
    "# apply same transformation to test data\n",
    "test_X = scaler.transform(test_X)"
   ]
  },
  {
   "cell_type": "code",
   "execution_count": 46,
   "metadata": {},
   "outputs": [
    {
     "name": "stdout",
     "output_type": "stream",
     "text": [
      "number of input features = 8\n"
     ]
    }
   ],
   "source": [
    "num_input_features = train_X.shape[1]\n",
    "print(f'number of input features = {num_input_features}')"
   ]
  },
  {
   "cell_type": "code",
   "execution_count": 47,
   "metadata": {},
   "outputs": [
    {
     "name": "stdout",
     "output_type": "stream",
     "text": [
      "2.2.4-tf\n"
     ]
    }
   ],
   "source": [
    "import datetime, os\n",
    "\n",
    "import tensorflow.keras\n",
    "from tensorflow.keras.datasets import mnist\n",
    "from tensorflow.keras.models import Sequential\n",
    "from tensorflow.keras.layers import Dense, Dropout, Flatten\n",
    "from tensorflow.keras.layers import Conv2D, MaxPooling2D\n",
    "from tensorflow.keras import backend as K\n",
    "import tensorflow as tf\n",
    "\n",
    "# Print keras version\n",
    "print(tensorflow.keras.__version__)"
   ]
  },
  {
   "cell_type": "code",
   "execution_count": 5,
   "metadata": {},
   "outputs": [],
   "source": [
    "def nn_clf():\n",
    "    \n",
    "    model = Sequential()\n",
    "    model.add(Dense(10, input_shape=(num_input_features,), \n",
    "                      activation=\"relu\", kernel_initializer='random_uniform'))\n",
    "    model.add(Dense(10,  activation=\"relu\", kernel_initializer='random_uniform'))\n",
    "    model.add(Dense(5,  activation=\"relu\", kernel_initializer='random_uniform'))\n",
    "    model.add(Dense(1, activation=\"linear\", kernel_initializer='random_uniform'))\n",
    "    model.compile(optimizer='adam', loss='mean_squared_error',  metrics=['mae',\"mse\"])\n",
    "    return model"
   ]
  },
  {
   "cell_type": "code",
   "execution_count": 6,
   "metadata": {},
   "outputs": [
    {
     "name": "stdout",
     "output_type": "stream",
     "text": [
      "Model: \"sequential\"\n",
      "_________________________________________________________________\n",
      "Layer (type)                 Output Shape              Param #   \n",
      "=================================================================\n",
      "dense (Dense)                (None, 10)                90        \n",
      "_________________________________________________________________\n",
      "dense_1 (Dense)              (None, 10)                110       \n",
      "_________________________________________________________________\n",
      "dense_2 (Dense)              (None, 5)                 55        \n",
      "_________________________________________________________________\n",
      "dense_3 (Dense)              (None, 1)                 6         \n",
      "=================================================================\n",
      "Total params: 261\n",
      "Trainable params: 261\n",
      "Non-trainable params: 0\n",
      "_________________________________________________________________\n"
     ]
    }
   ],
   "source": [
    "model = nn_clf()\n",
    "\n",
    "model.summary()"
   ]
  },
  {
   "cell_type": "code",
   "execution_count": 7,
   "metadata": {},
   "outputs": [
    {
     "data": {
      "image/png": "[encoded data removed]",
      "text/plain": [
       "<IPython.core.display.Image object>"
      ]
     },
     "execution_count": 7,
     "metadata": {},
     "output_type": "execute_result"
    }
   ],
   "source": [
    "from tensorflow.keras.utils import plot_model\n",
    "\n",
    "plot_model(model, to_file='model_plot.png', show_shapes=True, show_layer_names=True)\n",
    "\n",
    "from IPython.display import Image\n",
    "Image(\"model_plot.png\")"
   ]
  },
  {
   "cell_type": "code",
   "execution_count": 8,
   "metadata": {},
   "outputs": [
    {
     "name": "stderr",
     "output_type": "stream",
     "text": [
      "Using TensorFlow backend.\n"
     ]
    },
    {
     "name": "stdout",
     "output_type": "stream",
     "text": [
      "Epoch 1/50\n",
      "10320/10320 [==============================] - 0s 44us/sample - loss: 2.3098 - mae: 1.1100 - mse: 2.3098\n",
      "Epoch 2/50\n",
      "10320/10320 [==============================] - 0s 30us/sample - loss: 0.5048 - mae: 0.5141 - mse: 0.5048\n",
      "Epoch 3/50\n",
      "10320/10320 [==============================] - 0s 44us/sample - loss: 0.4224 - mae: 0.4682 - mse: 0.4224\n",
      "Epoch 4/50\n",
      "10320/10320 [==============================] - 1s 51us/sample - loss: 0.3962 - mae: 0.4531 - mse: 0.3962\n",
      "Epoch 5/50\n",
      "10320/10320 [==============================] - 0s 34us/sample - loss: 0.3875 - mae: 0.4484 - mse: 0.3875\n",
      "Epoch 6/50\n",
      "10320/10320 [==============================] - 0s 29us/sample - loss: 0.3794 - mae: 0.4428 - mse: 0.3794\n",
      "Epoch 7/50\n",
      "10320/10320 [==============================] - 0s 29us/sample - loss: 0.3748 - mae: 0.4388 - mse: 0.3748\n",
      "Epoch 8/50\n",
      "10320/10320 [==============================] - 0s 25us/sample - loss: 0.3696 - mae: 0.4359 - mse: 0.3696\n",
      "Epoch 9/50\n",
      "10320/10320 [==============================] - 0s 28us/sample - loss: 0.3651 - mae: 0.4327 - mse: 0.3651\n",
      "Epoch 10/50\n",
      "10320/10320 [==============================] - 0s 38us/sample - loss: 0.3616 - mae: 0.4303 - mse: 0.3616\n",
      "Epoch 11/50\n",
      "10320/10320 [==============================] - 0s 25us/sample - loss: 0.3583 - mae: 0.4274 - mse: 0.3583\n",
      "Epoch 12/50\n",
      "10320/10320 [==============================] - 0s 32us/sample - loss: 0.3559 - mae: 0.4250 - mse: 0.3559\n",
      "Epoch 13/50\n",
      "10320/10320 [==============================] - 0s 36us/sample - loss: 0.3517 - mae: 0.4232 - mse: 0.3517\n",
      "Epoch 14/50\n",
      "10320/10320 [==============================] - 0s 34us/sample - loss: 0.3486 - mae: 0.4200 - mse: 0.3486\n",
      "Epoch 15/50\n",
      "10320/10320 [==============================] - 0s 28us/sample - loss: 0.3471 - mae: 0.4176 - mse: 0.3471\n",
      "Epoch 16/50\n",
      "10320/10320 [==============================] - 0s 32us/sample - loss: 0.3436 - mae: 0.4154 - mse: 0.3436\n",
      "Epoch 17/50\n",
      "10320/10320 [==============================] - 0s 45us/sample - loss: 0.3434 - mae: 0.4153 - mse: 0.3434\n",
      "Epoch 18/50\n",
      "10320/10320 [==============================] - 0s 36us/sample - loss: 0.3411 - mae: 0.4119 - mse: 0.3411\n",
      "Epoch 19/50\n",
      "10320/10320 [==============================] - 0s 37us/sample - loss: 0.3382 - mae: 0.4102 - mse: 0.3382\n",
      "Epoch 20/50\n",
      "10320/10320 [==============================] - 0s 31us/sample - loss: 0.3394 - mae: 0.4114 - mse: 0.3394\n",
      "Epoch 21/50\n",
      "10320/10320 [==============================] - 0s 25us/sample - loss: 0.3377 - mae: 0.4093 - mse: 0.3377\n",
      "Epoch 22/50\n",
      "10320/10320 [==============================] - 0s 27us/sample - loss: 0.3351 - mae: 0.4078 - mse: 0.3351\n",
      "Epoch 23/50\n",
      "10320/10320 [==============================] - 0s 24us/sample - loss: 0.3355 - mae: 0.4074 - mse: 0.3355\n",
      "Epoch 24/50\n",
      "10320/10320 [==============================] - 0s 27us/sample - loss: 0.3356 - mae: 0.4075 - mse: 0.3356\n",
      "Epoch 25/50\n",
      "10320/10320 [==============================] - 0s 24us/sample - loss: 0.3346 - mae: 0.4062 - mse: 0.3346\n",
      "Epoch 26/50\n",
      "10320/10320 [==============================] - 0s 28us/sample - loss: 0.3344 - mae: 0.4069 - mse: 0.3344\n",
      "Epoch 27/50\n",
      "10320/10320 [==============================] - 0s 26us/sample - loss: 0.3330 - mae: 0.4055 - mse: 0.3330\n",
      "Epoch 28/50\n",
      "10320/10320 [==============================] - 0s 25us/sample - loss: 0.3348 - mae: 0.4062 - mse: 0.3348\n",
      "Epoch 29/50\n",
      "10320/10320 [==============================] - 0s 24us/sample - loss: 0.3326 - mae: 0.4059 - mse: 0.3326\n",
      "Epoch 30/50\n",
      "10320/10320 [==============================] - 0s 26us/sample - loss: 0.3322 - mae: 0.4046 - mse: 0.3322\n",
      "Epoch 31/50\n",
      "10320/10320 [==============================] - 0s 24us/sample - loss: 0.3323 - mae: 0.4046 - mse: 0.3323\n",
      "Epoch 32/50\n",
      "10320/10320 [==============================] - 0s 24us/sample - loss: 0.3300 - mae: 0.4037 - mse: 0.3300\n",
      "Epoch 33/50\n",
      "10320/10320 [==============================] - 0s 24us/sample - loss: 0.3332 - mae: 0.4045 - mse: 0.3332\n",
      "Epoch 34/50\n",
      "10320/10320 [==============================] - 0s 30us/sample - loss: 0.3299 - mae: 0.4036 - mse: 0.3299\n",
      "Epoch 35/50\n",
      "10320/10320 [==============================] - 0s 27us/sample - loss: 0.3304 - mae: 0.4026 - mse: 0.3304\n",
      "Epoch 36/50\n",
      "10320/10320 [==============================] - 0s 27us/sample - loss: 0.3300 - mae: 0.4030 - mse: 0.3300\n",
      "Epoch 37/50\n",
      "10320/10320 [==============================] - 0s 33us/sample - loss: 0.3293 - mae: 0.4029 - mse: 0.3293\n",
      "Epoch 38/50\n",
      "10320/10320 [==============================] - 0s 27us/sample - loss: 0.3304 - mae: 0.4018 - mse: 0.3304\n",
      "Epoch 39/50\n",
      "10320/10320 [==============================] - 0s 27us/sample - loss: 0.3297 - mae: 0.4019 - mse: 0.3297\n",
      "Epoch 40/50\n",
      "10320/10320 [==============================] - 0s 27us/sample - loss: 0.3305 - mae: 0.4030 - mse: 0.3305\n",
      "Epoch 41/50\n",
      "10320/10320 [==============================] - 0s 28us/sample - loss: 0.3300 - mae: 0.4018 - mse: 0.3300\n",
      "Epoch 42/50\n",
      "10320/10320 [==============================] - 0s 30us/sample - loss: 0.3292 - mae: 0.4009 - mse: 0.3292\n",
      "Epoch 43/50\n",
      "10320/10320 [==============================] - 0s 26us/sample - loss: 0.3281 - mae: 0.4013 - mse: 0.3281\n",
      "Epoch 44/50\n",
      "10320/10320 [==============================] - 0s 27us/sample - loss: 0.3306 - mae: 0.4017 - mse: 0.3306\n",
      "Epoch 45/50\n",
      "10320/10320 [==============================] - 0s 38us/sample - loss: 0.3282 - mae: 0.4007 - mse: 0.3282\n",
      "Epoch 46/50\n",
      "10320/10320 [==============================] - 0s 32us/sample - loss: 0.3269 - mae: 0.4000 - mse: 0.3269\n",
      "Epoch 47/50\n",
      "10320/10320 [==============================] - 0s 26us/sample - loss: 0.3282 - mae: 0.4008 - mse: 0.3282\n",
      "Epoch 48/50\n",
      "10320/10320 [==============================] - 0s 24us/sample - loss: 0.3298 - mae: 0.4006 - mse: 0.3298\n",
      "Epoch 49/50\n",
      "10320/10320 [==============================] - 0s 24us/sample - loss: 0.3271 - mae: 0.4015 - mse: 0.3271\n",
      "Epoch 50/50\n",
      "10320/10320 [==============================] - 0s 25us/sample - loss: 0.3270 - mae: 0.4000 - mse: 0.3270\n"
     ]
    },
    {
     "data": {
      "text/plain": [
       "<tensorflow.python.keras.callbacks.History at 0x1a2fc66198>"
      ]
     },
     "execution_count": 8,
     "metadata": {},
     "output_type": "execute_result"
    }
   ],
   "source": [
    "from keras.wrappers.scikit_learn import KerasRegressor\n",
    "from sklearn.model_selection import cross_val_score, KFold\n",
    "\n",
    "clf = KerasRegressor(build_fn=nn_clf, batch_size=32, epochs=50)\n",
    "clf.fit(train_X, train_Y)"
   ]
  },
  {
   "cell_type": "code",
   "execution_count": 9,
   "metadata": {},
   "outputs": [
    {
     "name": "stdout",
     "output_type": "stream",
     "text": [
      "MSE 0.5525607476476062\n"
     ]
    },
    {
     "data": {
      "text/plain": [
       "[<matplotlib.lines.Line2D at 0x1a306b9ac8>]"
      ]
     },
     "execution_count": 9,
     "metadata": {},
     "output_type": "execute_result"
    },
    {
     "data": {
      "image/png": "[encoded data removed]",
      "text/plain": [
       "<Figure size 720x432 with 1 Axes>"
      ]
     },
     "metadata": {},
     "output_type": "display_data"
    }
   ],
   "source": [
    "# how well did we do?\n",
    "import numpy as np\n",
    "from sklearn.metrics import mean_squared_error\n",
    "mse = mean_squared_error(test_Y, clf.predict(test_X)) ; print(\"MSE\",mse)\n",
    "\n",
    "plt.figure(figsize=(10,6))\n",
    "plt.title(\"NN Regression Residuals - MSE = %.3f\" % mse)\n",
    "plt.scatter(test_Y,clf.predict(test_X),alpha=0.4,s=3)\n",
    "plt.xlabel(\"Test Y\")\n",
    "plt.ylabel(\"Predicted Y\")\n",
    "plt.plot([0.2,5],[0.2,5],c=\"r\")"
   ]
  },
  {
   "cell_type": "markdown",
   "metadata": {},
   "source": [
    "### A More Complete Example\n",
    "\n",
    "We want to train and make some decisions of when to stop based on `validation` data. Ultimately, we'd like to see how well our model would do on truly new data (`test`).\n"
   ]
  },
  {
   "cell_type": "code",
   "execution_count": 48,
   "metadata": {},
   "outputs": [],
   "source": [
    "train_percentage, valid_percentage, test_percentage = (0.90,0.05,0.05)"
   ]
  },
  {
   "cell_type": "code",
   "execution_count": 49,
   "metadata": {},
   "outputs": [
    {
     "name": "stderr",
     "output_type": "stream",
     "text": [
      "/Users/jbloom/anaconda3/lib/python3.6/site-packages/sklearn/model_selection/_split.py:2179: FutureWarning: From version 0.21, test_size will always complement train_size unless both are specified.\n",
      "  FutureWarning)\n"
     ]
    }
   ],
   "source": [
    "from sklearn.model_selection import train_test_split\n",
    "\n",
    "rnd = np.random.RandomState(42)\n",
    "\n",
    "# make an array with the indices of all the rows in the dataset\n",
    "ind_arr = np.arange(X.shape[0])\n",
    "rnd.shuffle(ind_arr)\n",
    "\n",
    "train_ind, tmp = train_test_split(ind_arr, train_size=train_percentage, random_state=rnd)\n",
    "valid_ind, test_ind = train_test_split(tmp, \n",
    "                                                          train_size=valid_percentage/(valid_percentage + test_percentage), \n",
    "                                                          random_state=rnd)"
   ]
  },
  {
   "cell_type": "markdown",
   "metadata": {},
   "source": [
    "Let's make sure that we're getting all the indicies"
   ]
  },
  {
   "cell_type": "code",
   "execution_count": 50,
   "metadata": {},
   "outputs": [],
   "source": [
    "assert np.all(np.array(sorted(list(train_ind) + list(valid_ind) + list(test_ind)))  == sorted(ind_arr))"
   ]
  },
  {
   "cell_type": "markdown",
   "metadata": {},
   "source": [
    "Now let's scale the inputs"
   ]
  },
  {
   "cell_type": "code",
   "execution_count": 51,
   "metadata": {},
   "outputs": [],
   "source": [
    "scaler = StandardScaler()  \n",
    "\n",
    "train_X = X[train_ind]\n",
    "# Don't cheat - fit only on training data\n",
    "scaler.fit(train_X)  \n",
    "train_X = scaler.transform(train_X)  \n",
    "\n",
    "# apply same transformation to test, validation data\n",
    "test_X = scaler.transform(X[test_ind])\n",
    "valid_X = scaler.transform(X[valid_ind])\n",
    "\n",
    "train_y = Y[train_ind] ; test_y = Y[test_ind] ; valid_y = Y[valid_ind]\n",
    "\n",
    "assert train_y.shape[0] == train_X.shape[0]\n",
    "assert test_y.shape[0] == test_X.shape[0]\n",
    "assert valid_y.shape[0] == valid_X.shape[0]"
   ]
  },
  {
   "cell_type": "code",
   "execution_count": 14,
   "metadata": {},
   "outputs": [],
   "source": [
    "model = Sequential()\n",
    "model.add(Dense(10, input_shape=(num_input_features,), \n",
    "                  activation=\"relu\", kernel_initializer='random_uniform'))\n",
    "model.add(Dense(10,  activation=\"relu\", kernel_initializer='random_uniform'))\n",
    "model.add(Dense(5,  activation=\"relu\", kernel_initializer='random_uniform'))\n",
    "model.add(Dense(1, activation=\"linear\", kernel_initializer='random_uniform'))"
   ]
  },
  {
   "cell_type": "markdown",
   "metadata": {},
   "source": [
    "The `Model.compile` method in `keras` has a number of input parameters:\n",
    "\n",
    "```python\n",
    "compile(optimizer, loss=None, metrics=None, loss_weights=None, sample_weight_mode=None, weighted_metrics=None, target_tensors=None)\n",
    "```\n",
    "Usually, you'll set the `optimizer`, `loss`, and `metrics`.\n",
    "\n",
    "https://keras.io/models/model/"
   ]
  },
  {
   "cell_type": "code",
   "execution_count": 15,
   "metadata": {},
   "outputs": [
    {
     "name": "stdout",
     "output_type": "stream",
     "text": [
      "Model: \"sequential_2\"\n",
      "_________________________________________________________________\n",
      "Layer (type)                 Output Shape              Param #   \n",
      "=================================================================\n",
      "dense_8 (Dense)              (None, 10)                90        \n",
      "_________________________________________________________________\n",
      "dense_9 (Dense)              (None, 10)                110       \n",
      "_________________________________________________________________\n",
      "dense_10 (Dense)             (None, 5)                 55        \n",
      "_________________________________________________________________\n",
      "dense_11 (Dense)             (None, 1)                 6         \n",
      "=================================================================\n",
      "Total params: 261\n",
      "Trainable params: 261\n",
      "Non-trainable params: 0\n",
      "_________________________________________________________________\n"
     ]
    }
   ],
   "source": [
    "model.summary()"
   ]
  },
  {
   "cell_type": "code",
   "execution_count": 16,
   "metadata": {},
   "outputs": [],
   "source": [
    "model.compile(optimizer='adam', loss='mean_squared_error',  metrics=['mae',\"mse\"])"
   ]
  },
  {
   "cell_type": "code",
   "execution_count": 17,
   "metadata": {},
   "outputs": [
    {
     "name": "stdout",
     "output_type": "stream",
     "text": [
      "Training ... nn_results/colombia_nn_2019-06-06T03:34.h5\n"
     ]
    }
   ],
   "source": [
    "import datetime\n",
    "import os\n",
    "\n",
    "from tensorflow.keras.callbacks import EarlyStopping, CSVLogger, \\\n",
    "                                                ReduceLROnPlateau, ModelCheckpoint, TensorBoard\n",
    "\n",
    "try:\n",
    "    os.mkdir('nn_results')\n",
    "except:\n",
    "    pass\n",
    "\n",
    "batch_size=64\n",
    "num_epochs = 200\n",
    "\n",
    "run_time_string = datetime.datetime.utcnow().isoformat(timespec='minutes')\n",
    "\n",
    "# define path to save model\n",
    "model_path = f'nn_results/colombia_nn_{run_time_string}.h5'\n",
    "print(f\"Training ... {model_path}\")\n",
    "\n",
    "# Tensorboard is a project which can ingest learning logs for interactive display...more on that later.\n",
    "tb = TensorBoard(log_dir='nn_results', histogram_freq=0,\n",
    "                 write_graph=True, \n",
    "                 write_grads=False, \n",
    "                 write_images=False, \n",
    "                 embeddings_freq=0, \n",
    "                 embeddings_layer_names=None, \n",
    "                 embeddings_metadata=None, embeddings_data=None)\n",
    "\n",
    "reduce_lr = ReduceLROnPlateau(monitor='val_mse', factor=0.75,\n",
    "                              patience=3, min_lr=1e-6, verbose=1, cooldown=0)\n",
    "\n",
    "csv_logger = CSVLogger(f'nn_results/training_{run_time_string}.log')\n",
    "\n",
    "earlystop = EarlyStopping(monitor='val_mse', min_delta=0.001, patience=10, \\\n",
    "                          verbose=1, mode='auto')\n",
    "\n",
    "model_check = ModelCheckpoint(model_path,\n",
    "        monitor='val_mse', \n",
    "        save_best_only=True, \n",
    "        mode='min',\n",
    "        verbose=1)"
   ]
  },
  {
   "cell_type": "markdown",
   "metadata": {},
   "source": [
    "The `Model.fit` method:\n",
    "\n",
    "```python\n",
    "fit(x=None, y=None, batch_size=None, epochs=1, verbose=1, callbacks=None, validation_split=0.0, validation_data=None, shuffle=True, class_weight=None, sample_weight=None, initial_epoch=0, steps_per_epoch=None, validation_steps=None, validation_freq=1)\n",
    "```"
   ]
  },
  {
   "cell_type": "code",
   "execution_count": 18,
   "metadata": {},
   "outputs": [
    {
     "name": "stdout",
     "output_type": "stream",
     "text": [
      "Train on 18576 samples, validate on 1032 samples\n",
      "Epoch 1/200\n",
      "17504/18576 [===========================>..] - ETA: 0s - loss: 1.6617 - mae: 0.9102 - mse: 1.6617\n",
      "Epoch 00001: val_mse improved from inf to 0.58637, saving model to nn_results/colombia_nn_2019-06-06T03:34.h5\n",
      "18576/18576 [==============================] - 1s 73us/sample - loss: 1.5965 - mae: 0.8887 - mse: 1.5965 - val_loss: 0.5864 - val_mae: 0.5483 - val_mse: 0.5864\n",
      "Epoch 2/200\n",
      "18528/18576 [============================>.] - ETA: 0s - loss: 0.4670 - mae: 0.4936 - mse: 0.4670\n",
      "Epoch 00002: val_mse improved from 0.58637 to 0.47217, saving model to nn_results/colombia_nn_2019-06-06T03:34.h5\n",
      "18576/18576 [==============================] - 1s 38us/sample - loss: 0.4664 - mae: 0.4933 - mse: 0.4664 - val_loss: 0.4722 - val_mae: 0.4804 - val_mse: 0.4722\n",
      "Epoch 3/200\n",
      "17248/18576 [==========================>...] - ETA: 0s - loss: 0.4256 - mae: 0.4656 - mse: 0.4256\n",
      "Epoch 00003: val_mse improved from 0.47217 to 0.44702, saving model to nn_results/colombia_nn_2019-06-06T03:34.h5\n",
      "18576/18576 [==============================] - 1s 44us/sample - loss: 0.4267 - mae: 0.4655 - mse: 0.4267 - val_loss: 0.4470 - val_mae: 0.4639 - val_mse: 0.4470\n",
      "Epoch 4/200\n",
      "17632/18576 [===========================>..] - ETA: 0s - loss: 0.4137 - mae: 0.4577 - mse: 0.4137\n",
      "Epoch 00004: val_mse improved from 0.44702 to 0.44079, saving model to nn_results/colombia_nn_2019-06-06T03:34.h5\n",
      "18576/18576 [==============================] - 1s 29us/sample - loss: 0.4138 - mae: 0.4579 - mse: 0.4138 - val_loss: 0.4408 - val_mae: 0.4631 - val_mse: 0.4408\n",
      "Epoch 5/200\n",
      "16800/18576 [==========================>...] - ETA: 0s - loss: 0.4060 - mae: 0.4545 - mse: 0.4060\n",
      "Epoch 00005: val_mse improved from 0.44079 to 0.42716, saving model to nn_results/colombia_nn_2019-06-06T03:34.h5\n",
      "18576/18576 [==============================] - 1s 32us/sample - loss: 0.4058 - mae: 0.4540 - mse: 0.4058 - val_loss: 0.4272 - val_mae: 0.4705 - val_mse: 0.4272\n",
      "Epoch 6/200\n",
      "17856/18576 [===========================>..] - ETA: 0s - loss: 0.3961 - mae: 0.4500 - mse: 0.3961\n",
      "Epoch 00006: val_mse improved from 0.42716 to 0.42080, saving model to nn_results/colombia_nn_2019-06-06T03:34.h5\n",
      "18576/18576 [==============================] - 1s 34us/sample - loss: 0.3963 - mae: 0.4497 - mse: 0.3963 - val_loss: 0.4208 - val_mae: 0.4604 - val_mse: 0.4208\n",
      "Epoch 7/200\n",
      "17536/18576 [===========================>..] - ETA: 0s - loss: 0.3898 - mae: 0.4468 - mse: 0.3898\n",
      "Epoch 00007: val_mse improved from 0.42080 to 0.41112, saving model to nn_results/colombia_nn_2019-06-06T03:34.h5\n",
      "18576/18576 [==============================] - 1s 34us/sample - loss: 0.3887 - mae: 0.4468 - mse: 0.3887 - val_loss: 0.4111 - val_mae: 0.4528 - val_mse: 0.4111\n",
      "Epoch 8/200\n",
      "17280/18576 [==========================>...] - ETA: 0s - loss: 0.3823 - mae: 0.4421 - mse: 0.3823\n",
      "Epoch 00008: val_mse improved from 0.41112 to 0.41032, saving model to nn_results/colombia_nn_2019-06-06T03:34.h5\n",
      "18576/18576 [==============================] - 1s 29us/sample - loss: 0.3831 - mae: 0.4424 - mse: 0.3831 - val_loss: 0.4103 - val_mae: 0.4480 - val_mse: 0.4103\n",
      "Epoch 9/200\n",
      "18240/18576 [============================>.] - ETA: 0s - loss: 0.3786 - mae: 0.4399 - mse: 0.3786\n",
      "Epoch 00009: val_mse improved from 0.41032 to 0.40256, saving model to nn_results/colombia_nn_2019-06-06T03:34.h5\n",
      "18576/18576 [==============================] - 1s 34us/sample - loss: 0.3772 - mae: 0.4392 - mse: 0.3772 - val_loss: 0.4026 - val_mae: 0.4445 - val_mse: 0.4026\n",
      "Epoch 10/200\n",
      "18304/18576 [============================>.] - ETA: 0s - loss: 0.3714 - mae: 0.4349 - mse: 0.3714\n",
      "Epoch 00010: val_mse improved from 0.40256 to 0.39591, saving model to nn_results/colombia_nn_2019-06-06T03:34.h5\n",
      "18576/18576 [==============================] - 1s 31us/sample - loss: 0.3714 - mae: 0.4346 - mse: 0.3714 - val_loss: 0.3959 - val_mae: 0.4409 - val_mse: 0.3959\n",
      "Epoch 11/200\n",
      "18112/18576 [============================>.] - ETA: 0s - loss: 0.3664 - mae: 0.4302 - mse: 0.3664\n",
      "Epoch 00011: val_mse improved from 0.39591 to 0.39091, saving model to nn_results/colombia_nn_2019-06-06T03:34.h5\n",
      "18576/18576 [==============================] - 1s 34us/sample - loss: 0.3656 - mae: 0.4299 - mse: 0.3656 - val_loss: 0.3909 - val_mae: 0.4376 - val_mse: 0.3909\n",
      "Epoch 12/200\n",
      "17312/18576 [==========================>...] - ETA: 0s - loss: 0.3638 - mae: 0.4275 - mse: 0.3638\n",
      "Epoch 00012: val_mse improved from 0.39091 to 0.38662, saving model to nn_results/colombia_nn_2019-06-06T03:34.h5\n",
      "18576/18576 [==============================] - 1s 32us/sample - loss: 0.3616 - mae: 0.4264 - mse: 0.3616 - val_loss: 0.3866 - val_mae: 0.4359 - val_mse: 0.3866\n",
      "Epoch 13/200\n",
      "18496/18576 [============================>.] - ETA: 0s - loss: 0.3583 - mae: 0.4228 - mse: 0.3583\n",
      "Epoch 00013: val_mse improved from 0.38662 to 0.38228, saving model to nn_results/colombia_nn_2019-06-06T03:34.h5\n",
      "18576/18576 [==============================] - 1s 33us/sample - loss: 0.3586 - mae: 0.4228 - mse: 0.3586 - val_loss: 0.3823 - val_mae: 0.4324 - val_mse: 0.3823\n",
      "Epoch 14/200\n",
      "18208/18576 [============================>.] - ETA: 0s - loss: 0.3566 - mae: 0.4211 - mse: 0.3566\n",
      "Epoch 00014: val_mse improved from 0.38228 to 0.37856, saving model to nn_results/colombia_nn_2019-06-06T03:34.h5\n",
      "18576/18576 [==============================] - 1s 31us/sample - loss: 0.3563 - mae: 0.4210 - mse: 0.3563 - val_loss: 0.3786 - val_mae: 0.4263 - val_mse: 0.3786\n",
      "Epoch 15/200\n",
      "18336/18576 [============================>.] - ETA: 0s - loss: 0.3547 - mae: 0.4190 - mse: 0.3547\n",
      "Epoch 00015: val_mse did not improve from 0.37856\n",
      "18576/18576 [==============================] - 1s 31us/sample - loss: 0.3537 - mae: 0.4185 - mse: 0.3537 - val_loss: 0.3806 - val_mae: 0.4316 - val_mse: 0.3806\n",
      "Epoch 16/200\n",
      "17344/18576 [===========================>..] - ETA: 0s - loss: 0.3554 - mae: 0.4181 - mse: 0.3554\n",
      "Epoch 00016: val_mse improved from 0.37856 to 0.37615, saving model to nn_results/colombia_nn_2019-06-06T03:34.h5\n",
      "18576/18576 [==============================] - 1s 34us/sample - loss: 0.3529 - mae: 0.4170 - mse: 0.3529 - val_loss: 0.3761 - val_mae: 0.4183 - val_mse: 0.3761\n",
      "Epoch 17/200\n",
      "18176/18576 [============================>.] - ETA: 0s - loss: 0.3528 - mae: 0.4164 - mse: 0.3528\n",
      "Epoch 00017: val_mse did not improve from 0.37615\n",
      "18576/18576 [==============================] - 1s 29us/sample - loss: 0.3510 - mae: 0.4156 - mse: 0.3510 - val_loss: 0.3788 - val_mae: 0.4251 - val_mse: 0.3788\n",
      "Epoch 18/200\n",
      "17728/18576 [===========================>..] - ETA: 0s - loss: 0.3514 - mae: 0.4148 - mse: 0.3514\n",
      "Epoch 00018: val_mse did not improve from 0.37615\n",
      "18576/18576 [==============================] - 1s 33us/sample - loss: 0.3496 - mae: 0.4143 - mse: 0.3496 - val_loss: 0.3861 - val_mae: 0.4207 - val_mse: 0.3861\n",
      "Epoch 19/200\n",
      "18240/18576 [============================>.] - ETA: 0s - loss: 0.3498 - mae: 0.4147 - mse: 0.3498\n",
      "Epoch 00019: val_mse improved from 0.37615 to 0.37531, saving model to nn_results/colombia_nn_2019-06-06T03:34.h5\n",
      "18576/18576 [==============================] - 1s 34us/sample - loss: 0.3503 - mae: 0.4147 - mse: 0.3503 - val_loss: 0.3753 - val_mae: 0.4204 - val_mse: 0.3753\n",
      "Epoch 20/200\n",
      "17056/18576 [==========================>...] - ETA: 0s - loss: 0.3472 - mae: 0.4121 - mse: 0.3472\n",
      "Epoch 00020: val_mse did not improve from 0.37531\n",
      "18576/18576 [==============================] - 1s 28us/sample - loss: 0.3492 - mae: 0.4128 - mse: 0.3492 - val_loss: 0.3802 - val_mae: 0.4278 - val_mse: 0.3802\n",
      "Epoch 21/200\n",
      "18368/18576 [============================>.] - ETA: 0s - loss: 0.3484 - mae: 0.4131 - mse: 0.3484\n",
      "Epoch 00021: val_mse did not improve from 0.37531\n",
      "18576/18576 [==============================] - 1s 32us/sample - loss: 0.3480 - mae: 0.4128 - mse: 0.3480 - val_loss: 0.3778 - val_mae: 0.4201 - val_mse: 0.3778\n",
      "Epoch 22/200\n",
      "16512/18576 [=========================>....] - ETA: 0s - loss: 0.3509 - mae: 0.4135 - mse: 0.3509\n",
      "Epoch 00022: val_mse did not improve from 0.37531\n",
      "18576/18576 [==============================] - 0s 26us/sample - loss: 0.3473 - mae: 0.4120 - mse: 0.3473 - val_loss: 0.3773 - val_mae: 0.4147 - val_mse: 0.3773\n",
      "Epoch 23/200\n"
     ]
    },
    {
     "name": "stdout",
     "output_type": "stream",
     "text": [
      "18400/18576 [============================>.] - ETA: 0s - loss: 0.3485 - mae: 0.4124 - mse: 0.3485\n",
      "Epoch 00023: val_mse did not improve from 0.37531\n",
      "18576/18576 [==============================] - 1s 29us/sample - loss: 0.3477 - mae: 0.4119 - mse: 0.3477 - val_loss: 0.3810 - val_mae: 0.4210 - val_mse: 0.3810\n",
      "Epoch 24/200\n",
      "18080/18576 [============================>.] - ETA: 0s - loss: 0.3496 - mae: 0.4120 - mse: 0.3496\n",
      "Epoch 00024: val_mse improved from 0.37531 to 0.37424, saving model to nn_results/colombia_nn_2019-06-06T03:34.h5\n",
      "18576/18576 [==============================] - 1s 28us/sample - loss: 0.3481 - mae: 0.4115 - mse: 0.3481 - val_loss: 0.3742 - val_mae: 0.4221 - val_mse: 0.3742\n",
      "Epoch 25/200\n",
      "17824/18576 [===========================>..] - ETA: 0s - loss: 0.3469 - mae: 0.4102 - mse: 0.3469\n",
      "Epoch 00025: val_mse did not improve from 0.37424\n",
      "18576/18576 [==============================] - 1s 29us/sample - loss: 0.3493 - mae: 0.4120 - mse: 0.3493 - val_loss: 0.3790 - val_mae: 0.4277 - val_mse: 0.3790\n",
      "Epoch 26/200\n",
      "18464/18576 [============================>.] - ETA: 0s - loss: 0.3487 - mae: 0.4121 - mse: 0.3487\n",
      "Epoch 00026: val_mse improved from 0.37424 to 0.37205, saving model to nn_results/colombia_nn_2019-06-06T03:34.h5\n",
      "18576/18576 [==============================] - 1s 27us/sample - loss: 0.3487 - mae: 0.4121 - mse: 0.3487 - val_loss: 0.3721 - val_mae: 0.4190 - val_mse: 0.3721\n",
      "Epoch 27/200\n",
      "18560/18576 [============================>.] - ETA: 0s - loss: 0.3471 - mae: 0.4107 - mse: 0.3471\n",
      "Epoch 00027: val_mse improved from 0.37205 to 0.36953, saving model to nn_results/colombia_nn_2019-06-06T03:34.h5\n",
      "18576/18576 [==============================] - 1s 32us/sample - loss: 0.3469 - mae: 0.4106 - mse: 0.3469 - val_loss: 0.3695 - val_mae: 0.4191 - val_mse: 0.3695\n",
      "Epoch 28/200\n",
      "17088/18576 [==========================>...] - ETA: 0s - loss: 0.3486 - mae: 0.4115 - mse: 0.3486\n",
      "Epoch 00028: val_mse did not improve from 0.36953\n",
      "18576/18576 [==============================] - 1s 32us/sample - loss: 0.3465 - mae: 0.4106 - mse: 0.3465 - val_loss: 0.3773 - val_mae: 0.4238 - val_mse: 0.3773\n",
      "Epoch 29/200\n",
      "17536/18576 [===========================>..] - ETA: 0s - loss: 0.3454 - mae: 0.4108 - mse: 0.3454\n",
      "Epoch 00029: val_mse did not improve from 0.36953\n",
      "18576/18576 [==============================] - 1s 33us/sample - loss: 0.3478 - mae: 0.4109 - mse: 0.3478 - val_loss: 0.3774 - val_mae: 0.4221 - val_mse: 0.3774\n",
      "Epoch 30/200\n",
      "18560/18576 [============================>.] - ETA: 0s - loss: 0.3471 - mae: 0.4102 - mse: 0.3471\n",
      "Epoch 00030: val_mse did not improve from 0.36953\n",
      "18576/18576 [==============================] - 1s 29us/sample - loss: 0.3471 - mae: 0.4102 - mse: 0.3471 - val_loss: 0.3774 - val_mae: 0.4181 - val_mse: 0.3774\n",
      "Epoch 31/200\n",
      "16672/18576 [=========================>....] - ETA: 0s - loss: 0.3464 - mae: 0.4098 - mse: 0.3464\n",
      "Epoch 00031: val_mse did not improve from 0.36953\n",
      "18576/18576 [==============================] - 1s 28us/sample - loss: 0.3465 - mae: 0.4104 - mse: 0.3465 - val_loss: 0.3761 - val_mae: 0.4176 - val_mse: 0.3761\n",
      "Epoch 32/200\n",
      "18112/18576 [============================>.] - ETA: 0s - loss: 0.3474 - mae: 0.4108 - mse: 0.3474\n",
      "Epoch 00032: val_mse did not improve from 0.36953\n",
      "18576/18576 [==============================] - 1s 30us/sample - loss: 0.3469 - mae: 0.4107 - mse: 0.3469 - val_loss: 0.3760 - val_mae: 0.4199 - val_mse: 0.3760\n",
      "Epoch 33/200\n",
      "16736/18576 [==========================>...] - ETA: 0s - loss: 0.3522 - mae: 0.4108 - mse: 0.3522\n",
      "Epoch 00033: val_mse did not improve from 0.36953\n",
      "18576/18576 [==============================] - 1s 28us/sample - loss: 0.3509 - mae: 0.4106 - mse: 0.3509 - val_loss: 0.3741 - val_mae: 0.4164 - val_mse: 0.3741\n",
      "Epoch 34/200\n",
      "17568/18576 [===========================>..] - ETA: 0s - loss: 0.3466 - mae: 0.4097 - mse: 0.3466\n",
      "Epoch 00034: val_mse did not improve from 0.36953\n",
      "18576/18576 [==============================] - 1s 33us/sample - loss: 0.3470 - mae: 0.4099 - mse: 0.3470 - val_loss: 0.3739 - val_mae: 0.4214 - val_mse: 0.3739\n",
      "Epoch 35/200\n",
      "17728/18576 [===========================>..] - ETA: 0s - loss: 0.3452 - mae: 0.4096 - mse: 0.3452\n",
      "Epoch 00035: val_mse did not improve from 0.36953\n",
      "18576/18576 [==============================] - 1s 30us/sample - loss: 0.3461 - mae: 0.4093 - mse: 0.3461 - val_loss: 0.3699 - val_mae: 0.4198 - val_mse: 0.3699\n",
      "Epoch 36/200\n",
      "18016/18576 [============================>.] - ETA: 0s - loss: 0.3453 - mae: 0.4099 - mse: 0.3453\n",
      "Epoch 00036: val_mse did not improve from 0.36953\n",
      "18576/18576 [==============================] - 1s 32us/sample - loss: 0.3459 - mae: 0.4100 - mse: 0.3459 - val_loss: 0.3755 - val_mae: 0.4166 - val_mse: 0.3755\n",
      "Epoch 37/200\n",
      "18400/18576 [============================>.] - ETA: 0s - loss: 0.3464 - mae: 0.4095 - mse: 0.3464\n",
      "Epoch 00037: val_mse did not improve from 0.36953\n",
      "18576/18576 [==============================] - 1s 35us/sample - loss: 0.3463 - mae: 0.4096 - mse: 0.3463 - val_loss: 0.3785 - val_mae: 0.4180 - val_mse: 0.3785\n",
      "Epoch 00037: early stopping\n"
     ]
    }
   ],
   "source": [
    "history = model.fit(x=train_X, y=train_y,\n",
    "               epochs=num_epochs,\n",
    "               validation_data=(valid_X, valid_y),\n",
    "               verbose=1, shuffle=True,\n",
    "               callbacks=[csv_logger, earlystop, model_check, tb])"
   ]
  },
  {
   "cell_type": "code",
   "execution_count": 19,
   "metadata": {},
   "outputs": [
    {
     "name": "stdout",
     "output_type": "stream",
     "text": [
      "\u001b[34m20190605-145816\u001b[m\u001b[m                 \u001b[34mtrain\u001b[m\u001b[m\r\n",
      "\u001b[34m20190605-150530\u001b[m\u001b[m                 training_2019-06-05T19:58.log\r\n",
      "colombia_nn_2019-06-05T19:58.h5 training_2019-06-05T20:05.log\r\n",
      "colombia_nn_2019-06-05T20:05.h5 training_2019-06-06T03:30.log\r\n",
      "colombia_nn_2019-06-06T03:30.h5 training_2019-06-06T03:34.log\r\n",
      "colombia_nn_2019-06-06T03:34.h5 \u001b[34mvalidation\u001b[m\u001b[m\r\n"
     ]
    }
   ],
   "source": [
    "!ls nn_results/"
   ]
  },
  {
   "cell_type": "markdown",
   "metadata": {},
   "source": [
    "Let's look at the history of the training results:"
   ]
  },
  {
   "cell_type": "code",
   "execution_count": 20,
   "metadata": {},
   "outputs": [
    {
     "data": {
      "text/html": [
       "<div>\n",
       "<style scoped>\n",
       "    .dataframe tbody tr th:only-of-type {\n",
       "        vertical-align: middle;\n",
       "    }\n",
       "\n",
       "    .dataframe tbody tr th {\n",
       "        vertical-align: top;\n",
       "    }\n",
       "\n",
       "    .dataframe thead th {\n",
       "        text-align: right;\n",
       "    }\n",
       "</style>\n",
       "<table border=\"1\" class=\"dataframe\">\n",
       "  <thead>\n",
       "    <tr style=\"text-align: right;\">\n",
       "      <th></th>\n",
       "      <th>epoch</th>\n",
       "      <th>loss</th>\n",
       "      <th>mae</th>\n",
       "      <th>mse</th>\n",
       "      <th>val_loss</th>\n",
       "      <th>val_mae</th>\n",
       "      <th>val_mse</th>\n",
       "    </tr>\n",
       "  </thead>\n",
       "  <tbody>\n",
       "    <tr>\n",
       "      <th>0</th>\n",
       "      <td>0</td>\n",
       "      <td>1.596539</td>\n",
       "      <td>0.888739</td>\n",
       "      <td>1.596539</td>\n",
       "      <td>0.586370</td>\n",
       "      <td>0.548340</td>\n",
       "      <td>0.586370</td>\n",
       "    </tr>\n",
       "    <tr>\n",
       "      <th>1</th>\n",
       "      <td>1</td>\n",
       "      <td>0.466367</td>\n",
       "      <td>0.493266</td>\n",
       "      <td>0.466367</td>\n",
       "      <td>0.472171</td>\n",
       "      <td>0.480400</td>\n",
       "      <td>0.472171</td>\n",
       "    </tr>\n",
       "    <tr>\n",
       "      <th>2</th>\n",
       "      <td>2</td>\n",
       "      <td>0.426690</td>\n",
       "      <td>0.465506</td>\n",
       "      <td>0.426690</td>\n",
       "      <td>0.447018</td>\n",
       "      <td>0.463862</td>\n",
       "      <td>0.447018</td>\n",
       "    </tr>\n",
       "    <tr>\n",
       "      <th>3</th>\n",
       "      <td>3</td>\n",
       "      <td>0.413793</td>\n",
       "      <td>0.457903</td>\n",
       "      <td>0.413793</td>\n",
       "      <td>0.440789</td>\n",
       "      <td>0.463093</td>\n",
       "      <td>0.440789</td>\n",
       "    </tr>\n",
       "    <tr>\n",
       "      <th>4</th>\n",
       "      <td>4</td>\n",
       "      <td>0.405770</td>\n",
       "      <td>0.454047</td>\n",
       "      <td>0.405770</td>\n",
       "      <td>0.427165</td>\n",
       "      <td>0.470469</td>\n",
       "      <td>0.427165</td>\n",
       "    </tr>\n",
       "    <tr>\n",
       "      <th>5</th>\n",
       "      <td>5</td>\n",
       "      <td>0.396292</td>\n",
       "      <td>0.449717</td>\n",
       "      <td>0.396292</td>\n",
       "      <td>0.420796</td>\n",
       "      <td>0.460434</td>\n",
       "      <td>0.420796</td>\n",
       "    </tr>\n",
       "    <tr>\n",
       "      <th>6</th>\n",
       "      <td>6</td>\n",
       "      <td>0.388721</td>\n",
       "      <td>0.446816</td>\n",
       "      <td>0.388721</td>\n",
       "      <td>0.411122</td>\n",
       "      <td>0.452769</td>\n",
       "      <td>0.411122</td>\n",
       "    </tr>\n",
       "    <tr>\n",
       "      <th>7</th>\n",
       "      <td>7</td>\n",
       "      <td>0.383121</td>\n",
       "      <td>0.442352</td>\n",
       "      <td>0.383121</td>\n",
       "      <td>0.410318</td>\n",
       "      <td>0.448044</td>\n",
       "      <td>0.410318</td>\n",
       "    </tr>\n",
       "    <tr>\n",
       "      <th>8</th>\n",
       "      <td>8</td>\n",
       "      <td>0.377214</td>\n",
       "      <td>0.439177</td>\n",
       "      <td>0.377214</td>\n",
       "      <td>0.402564</td>\n",
       "      <td>0.444460</td>\n",
       "      <td>0.402564</td>\n",
       "    </tr>\n",
       "    <tr>\n",
       "      <th>9</th>\n",
       "      <td>9</td>\n",
       "      <td>0.371400</td>\n",
       "      <td>0.434629</td>\n",
       "      <td>0.371400</td>\n",
       "      <td>0.395913</td>\n",
       "      <td>0.440872</td>\n",
       "      <td>0.395913</td>\n",
       "    </tr>\n",
       "    <tr>\n",
       "      <th>10</th>\n",
       "      <td>10</td>\n",
       "      <td>0.365640</td>\n",
       "      <td>0.429928</td>\n",
       "      <td>0.365640</td>\n",
       "      <td>0.390911</td>\n",
       "      <td>0.437597</td>\n",
       "      <td>0.390911</td>\n",
       "    </tr>\n",
       "    <tr>\n",
       "      <th>11</th>\n",
       "      <td>11</td>\n",
       "      <td>0.361622</td>\n",
       "      <td>0.426406</td>\n",
       "      <td>0.361622</td>\n",
       "      <td>0.386616</td>\n",
       "      <td>0.435880</td>\n",
       "      <td>0.386616</td>\n",
       "    </tr>\n",
       "    <tr>\n",
       "      <th>12</th>\n",
       "      <td>12</td>\n",
       "      <td>0.358577</td>\n",
       "      <td>0.422847</td>\n",
       "      <td>0.358577</td>\n",
       "      <td>0.382279</td>\n",
       "      <td>0.432384</td>\n",
       "      <td>0.382279</td>\n",
       "    </tr>\n",
       "    <tr>\n",
       "      <th>13</th>\n",
       "      <td>13</td>\n",
       "      <td>0.356311</td>\n",
       "      <td>0.420990</td>\n",
       "      <td>0.356311</td>\n",
       "      <td>0.378564</td>\n",
       "      <td>0.426283</td>\n",
       "      <td>0.378564</td>\n",
       "    </tr>\n",
       "    <tr>\n",
       "      <th>14</th>\n",
       "      <td>14</td>\n",
       "      <td>0.353714</td>\n",
       "      <td>0.418508</td>\n",
       "      <td>0.353714</td>\n",
       "      <td>0.380556</td>\n",
       "      <td>0.431582</td>\n",
       "      <td>0.380556</td>\n",
       "    </tr>\n",
       "    <tr>\n",
       "      <th>15</th>\n",
       "      <td>15</td>\n",
       "      <td>0.352877</td>\n",
       "      <td>0.417000</td>\n",
       "      <td>0.352877</td>\n",
       "      <td>0.376149</td>\n",
       "      <td>0.418328</td>\n",
       "      <td>0.376149</td>\n",
       "    </tr>\n",
       "    <tr>\n",
       "      <th>16</th>\n",
       "      <td>16</td>\n",
       "      <td>0.350969</td>\n",
       "      <td>0.415633</td>\n",
       "      <td>0.350969</td>\n",
       "      <td>0.378817</td>\n",
       "      <td>0.425058</td>\n",
       "      <td>0.378817</td>\n",
       "    </tr>\n",
       "    <tr>\n",
       "      <th>17</th>\n",
       "      <td>17</td>\n",
       "      <td>0.349583</td>\n",
       "      <td>0.414302</td>\n",
       "      <td>0.349583</td>\n",
       "      <td>0.386124</td>\n",
       "      <td>0.420719</td>\n",
       "      <td>0.386124</td>\n",
       "    </tr>\n",
       "    <tr>\n",
       "      <th>18</th>\n",
       "      <td>18</td>\n",
       "      <td>0.350284</td>\n",
       "      <td>0.414745</td>\n",
       "      <td>0.350284</td>\n",
       "      <td>0.375309</td>\n",
       "      <td>0.420377</td>\n",
       "      <td>0.375309</td>\n",
       "    </tr>\n",
       "    <tr>\n",
       "      <th>19</th>\n",
       "      <td>19</td>\n",
       "      <td>0.349222</td>\n",
       "      <td>0.412808</td>\n",
       "      <td>0.349222</td>\n",
       "      <td>0.380181</td>\n",
       "      <td>0.427821</td>\n",
       "      <td>0.380181</td>\n",
       "    </tr>\n",
       "    <tr>\n",
       "      <th>20</th>\n",
       "      <td>20</td>\n",
       "      <td>0.347951</td>\n",
       "      <td>0.412841</td>\n",
       "      <td>0.347951</td>\n",
       "      <td>0.377849</td>\n",
       "      <td>0.420096</td>\n",
       "      <td>0.377849</td>\n",
       "    </tr>\n",
       "    <tr>\n",
       "      <th>21</th>\n",
       "      <td>21</td>\n",
       "      <td>0.347318</td>\n",
       "      <td>0.412010</td>\n",
       "      <td>0.347318</td>\n",
       "      <td>0.377295</td>\n",
       "      <td>0.414691</td>\n",
       "      <td>0.377295</td>\n",
       "    </tr>\n",
       "    <tr>\n",
       "      <th>22</th>\n",
       "      <td>22</td>\n",
       "      <td>0.347666</td>\n",
       "      <td>0.411917</td>\n",
       "      <td>0.347666</td>\n",
       "      <td>0.381008</td>\n",
       "      <td>0.421001</td>\n",
       "      <td>0.381008</td>\n",
       "    </tr>\n",
       "    <tr>\n",
       "      <th>23</th>\n",
       "      <td>23</td>\n",
       "      <td>0.348075</td>\n",
       "      <td>0.411518</td>\n",
       "      <td>0.348075</td>\n",
       "      <td>0.374243</td>\n",
       "      <td>0.422098</td>\n",
       "      <td>0.374243</td>\n",
       "    </tr>\n",
       "    <tr>\n",
       "      <th>24</th>\n",
       "      <td>24</td>\n",
       "      <td>0.349307</td>\n",
       "      <td>0.412029</td>\n",
       "      <td>0.349307</td>\n",
       "      <td>0.379044</td>\n",
       "      <td>0.427740</td>\n",
       "      <td>0.379044</td>\n",
       "    </tr>\n",
       "    <tr>\n",
       "      <th>25</th>\n",
       "      <td>25</td>\n",
       "      <td>0.348701</td>\n",
       "      <td>0.412080</td>\n",
       "      <td>0.348701</td>\n",
       "      <td>0.372054</td>\n",
       "      <td>0.418966</td>\n",
       "      <td>0.372054</td>\n",
       "    </tr>\n",
       "    <tr>\n",
       "      <th>26</th>\n",
       "      <td>26</td>\n",
       "      <td>0.346928</td>\n",
       "      <td>0.410608</td>\n",
       "      <td>0.346928</td>\n",
       "      <td>0.369530</td>\n",
       "      <td>0.419098</td>\n",
       "      <td>0.369530</td>\n",
       "    </tr>\n",
       "    <tr>\n",
       "      <th>27</th>\n",
       "      <td>27</td>\n",
       "      <td>0.346496</td>\n",
       "      <td>0.410628</td>\n",
       "      <td>0.346496</td>\n",
       "      <td>0.377254</td>\n",
       "      <td>0.423751</td>\n",
       "      <td>0.377253</td>\n",
       "    </tr>\n",
       "    <tr>\n",
       "      <th>28</th>\n",
       "      <td>28</td>\n",
       "      <td>0.347752</td>\n",
       "      <td>0.410939</td>\n",
       "      <td>0.347752</td>\n",
       "      <td>0.377392</td>\n",
       "      <td>0.422106</td>\n",
       "      <td>0.377392</td>\n",
       "    </tr>\n",
       "    <tr>\n",
       "      <th>29</th>\n",
       "      <td>29</td>\n",
       "      <td>0.347108</td>\n",
       "      <td>0.410177</td>\n",
       "      <td>0.347108</td>\n",
       "      <td>0.377412</td>\n",
       "      <td>0.418129</td>\n",
       "      <td>0.377412</td>\n",
       "    </tr>\n",
       "    <tr>\n",
       "      <th>30</th>\n",
       "      <td>30</td>\n",
       "      <td>0.346500</td>\n",
       "      <td>0.410356</td>\n",
       "      <td>0.346500</td>\n",
       "      <td>0.376123</td>\n",
       "      <td>0.417589</td>\n",
       "      <td>0.376123</td>\n",
       "    </tr>\n",
       "    <tr>\n",
       "      <th>31</th>\n",
       "      <td>31</td>\n",
       "      <td>0.346888</td>\n",
       "      <td>0.410685</td>\n",
       "      <td>0.346888</td>\n",
       "      <td>0.376009</td>\n",
       "      <td>0.419909</td>\n",
       "      <td>0.376009</td>\n",
       "    </tr>\n",
       "    <tr>\n",
       "      <th>32</th>\n",
       "      <td>32</td>\n",
       "      <td>0.350873</td>\n",
       "      <td>0.410587</td>\n",
       "      <td>0.350873</td>\n",
       "      <td>0.374148</td>\n",
       "      <td>0.416445</td>\n",
       "      <td>0.374148</td>\n",
       "    </tr>\n",
       "    <tr>\n",
       "      <th>33</th>\n",
       "      <td>33</td>\n",
       "      <td>0.347035</td>\n",
       "      <td>0.409930</td>\n",
       "      <td>0.347034</td>\n",
       "      <td>0.373930</td>\n",
       "      <td>0.421405</td>\n",
       "      <td>0.373930</td>\n",
       "    </tr>\n",
       "    <tr>\n",
       "      <th>34</th>\n",
       "      <td>34</td>\n",
       "      <td>0.346131</td>\n",
       "      <td>0.409301</td>\n",
       "      <td>0.346131</td>\n",
       "      <td>0.369865</td>\n",
       "      <td>0.419840</td>\n",
       "      <td>0.369865</td>\n",
       "    </tr>\n",
       "    <tr>\n",
       "      <th>35</th>\n",
       "      <td>35</td>\n",
       "      <td>0.345942</td>\n",
       "      <td>0.410013</td>\n",
       "      <td>0.345942</td>\n",
       "      <td>0.375510</td>\n",
       "      <td>0.416554</td>\n",
       "      <td>0.375510</td>\n",
       "    </tr>\n",
       "    <tr>\n",
       "      <th>36</th>\n",
       "      <td>36</td>\n",
       "      <td>0.346273</td>\n",
       "      <td>0.409619</td>\n",
       "      <td>0.346273</td>\n",
       "      <td>0.378452</td>\n",
       "      <td>0.418004</td>\n",
       "      <td>0.378452</td>\n",
       "    </tr>\n",
       "  </tbody>\n",
       "</table>\n",
       "</div>"
      ],
      "text/plain": [
       "    epoch      loss       mae       mse  val_loss   val_mae   val_mse\n",
       "0       0  1.596539  0.888739  1.596539  0.586370  0.548340  0.586370\n",
       "1       1  0.466367  0.493266  0.466367  0.472171  0.480400  0.472171\n",
       "2       2  0.426690  0.465506  0.426690  0.447018  0.463862  0.447018\n",
       "3       3  0.413793  0.457903  0.413793  0.440789  0.463093  0.440789\n",
       "4       4  0.405770  0.454047  0.405770  0.427165  0.470469  0.427165\n",
       "5       5  0.396292  0.449717  0.396292  0.420796  0.460434  0.420796\n",
       "6       6  0.388721  0.446816  0.388721  0.411122  0.452769  0.411122\n",
       "7       7  0.383121  0.442352  0.383121  0.410318  0.448044  0.410318\n",
       "8       8  0.377214  0.439177  0.377214  0.402564  0.444460  0.402564\n",
       "9       9  0.371400  0.434629  0.371400  0.395913  0.440872  0.395913\n",
       "10     10  0.365640  0.429928  0.365640  0.390911  0.437597  0.390911\n",
       "11     11  0.361622  0.426406  0.361622  0.386616  0.435880  0.386616\n",
       "12     12  0.358577  0.422847  0.358577  0.382279  0.432384  0.382279\n",
       "13     13  0.356311  0.420990  0.356311  0.378564  0.426283  0.378564\n",
       "14     14  0.353714  0.418508  0.353714  0.380556  0.431582  0.380556\n",
       "15     15  0.352877  0.417000  0.352877  0.376149  0.418328  0.376149\n",
       "16     16  0.350969  0.415633  0.350969  0.378817  0.425058  0.378817\n",
       "17     17  0.349583  0.414302  0.349583  0.386124  0.420719  0.386124\n",
       "18     18  0.350284  0.414745  0.350284  0.375309  0.420377  0.375309\n",
       "19     19  0.349222  0.412808  0.349222  0.380181  0.427821  0.380181\n",
       "20     20  0.347951  0.412841  0.347951  0.377849  0.420096  0.377849\n",
       "21     21  0.347318  0.412010  0.347318  0.377295  0.414691  0.377295\n",
       "22     22  0.347666  0.411917  0.347666  0.381008  0.421001  0.381008\n",
       "23     23  0.348075  0.411518  0.348075  0.374243  0.422098  0.374243\n",
       "24     24  0.349307  0.412029  0.349307  0.379044  0.427740  0.379044\n",
       "25     25  0.348701  0.412080  0.348701  0.372054  0.418966  0.372054\n",
       "26     26  0.346928  0.410608  0.346928  0.369530  0.419098  0.369530\n",
       "27     27  0.346496  0.410628  0.346496  0.377254  0.423751  0.377253\n",
       "28     28  0.347752  0.410939  0.347752  0.377392  0.422106  0.377392\n",
       "29     29  0.347108  0.410177  0.347108  0.377412  0.418129  0.377412\n",
       "30     30  0.346500  0.410356  0.346500  0.376123  0.417589  0.376123\n",
       "31     31  0.346888  0.410685  0.346888  0.376009  0.419909  0.376009\n",
       "32     32  0.350873  0.410587  0.350873  0.374148  0.416445  0.374148\n",
       "33     33  0.347035  0.409930  0.347034  0.373930  0.421405  0.373930\n",
       "34     34  0.346131  0.409301  0.346131  0.369865  0.419840  0.369865\n",
       "35     35  0.345942  0.410013  0.345942  0.375510  0.416554  0.375510\n",
       "36     36  0.346273  0.409619  0.346273  0.378452  0.418004  0.378452"
      ]
     },
     "execution_count": 20,
     "metadata": {},
     "output_type": "execute_result"
    }
   ],
   "source": [
    "lastest_log_file = !ls -t1 nn_results/training* | head -1\n",
    "hist_df = pd.read_csv(lastest_log_file[0])\n",
    "hist_df"
   ]
  },
  {
   "cell_type": "markdown",
   "metadata": {},
   "source": [
    "This is also available in the return value from `.fit`:"
   ]
  },
  {
   "cell_type": "code",
   "execution_count": 21,
   "metadata": {},
   "outputs": [
    {
     "data": {
      "text/plain": [
       "dict_keys(['loss', 'mae', 'mse', 'val_loss', 'val_mae', 'val_mse'])"
      ]
     },
     "execution_count": 21,
     "metadata": {},
     "output_type": "execute_result"
    }
   ],
   "source": [
    "history.history.keys()"
   ]
  },
  {
   "cell_type": "code",
   "execution_count": 22,
   "metadata": {},
   "outputs": [
    {
     "data": {
      "text/plain": [
       "<matplotlib.legend.Legend at 0x1a307405f8>"
      ]
     },
     "execution_count": 22,
     "metadata": {},
     "output_type": "execute_result"
    },
    {
     "data": {
      "image/png": "[encoded data removed]",
      "text/plain": [
       "<Figure size 504x432 with 1 Axes>"
      ]
     },
     "metadata": {},
     "output_type": "display_data"
    }
   ],
   "source": [
    "import seaborn as sns\n",
    "sns.set_context(\"poster\")\n",
    "plt.figure(figsize=(7,6))\n",
    "plt.title(\"Training History\")\n",
    "plt.plot(hist_df.index + 1,hist_df[\"val_mse\"] ,alpha=0.4, label=\"validation\")\n",
    "plt.plot(hist_df.index + 1,hist_df[\"mse\"] ,alpha=0.4, label=\"training\")\n",
    "\n",
    "plt.xlabel(\"Epoch\")\n",
    "plt.ylabel(\"Loss (MSE)\")\n",
    "plt.loglog()\n",
    "plt.legend()"
   ]
  },
  {
   "cell_type": "markdown",
   "metadata": {},
   "source": [
    "Take a look at the `tensorboard` notebook as well..."
   ]
  },
  {
   "cell_type": "markdown",
   "metadata": {},
   "source": [
    "Let's take a look at the predictions on the test set"
   ]
  },
  {
   "cell_type": "code",
   "execution_count": 40,
   "metadata": {},
   "outputs": [],
   "source": [
    "# reload the best model\n",
    "from tensorflow.keras.models import load_model\n",
    "import tensorflow as tf\n",
    "\n",
    "model = load_model(\"nn_results/colombia_nn_2019-06-06T03:34.h5\")"
   ]
  },
  {
   "cell_type": "code",
   "execution_count": 54,
   "metadata": {},
   "outputs": [
    {
     "data": {
      "text/plain": [
       "array([[1.6982787],\n",
       "       [4.5271378],\n",
       "       [0.8161887],\n",
       "       ...,\n",
       "       [1.9181906],\n",
       "       [1.5341332],\n",
       "       [1.3493855]], dtype=float32)"
      ]
     },
     "execution_count": 54,
     "metadata": {},
     "output_type": "execute_result"
    }
   ],
   "source": [
    "pred_y = model.predict(test_X)\n",
    "pred_y"
   ]
  },
  {
   "cell_type": "code",
   "execution_count": 55,
   "metadata": {},
   "outputs": [
    {
     "name": "stdout",
     "output_type": "stream",
     "text": [
      "MSE 0.3622807742392857\n"
     ]
    },
    {
     "data": {
      "text/plain": [
       "[<matplotlib.lines.Line2D at 0x1a32930f98>]"
      ]
     },
     "execution_count": 55,
     "metadata": {},
     "output_type": "execute_result"
    },
    {
     "data": {
      "image/png": "[encoded data removed]",
      "text/plain": [
       "<Figure size 720x432 with 1 Axes>"
      ]
     },
     "metadata": {},
     "output_type": "display_data"
    }
   ],
   "source": [
    "# how well did we do?\n",
    "import numpy as np\n",
    "from sklearn.metrics import mean_squared_error\n",
    "mse = mean_squared_error(test_y, pred_y[:,0]); print(\"MSE\",mse)\n",
    "\n",
    "plt.figure(figsize=(10,6))\n",
    "plt.title(\"NN Regression Residuals - MSE = %.3f\" % mse)\n",
    "plt.scatter(test_y,pred_y[:,0] ,alpha=0.4,s=3)\n",
    "plt.xlabel(\"Test Y\")\n",
    "plt.ylabel(\"Predicted Y\")\n",
    "plt.plot([0.2,5],[0.2,5],c=\"r\")"
   ]
  },
  {
   "cell_type": "markdown",
   "metadata": {},
   "source": [
    "How did we do compared to the validation and training data?"
   ]
  },
  {
   "cell_type": "code",
   "execution_count": null,
   "metadata": {},
   "outputs": [],
   "source": []
  }
 ],
 "metadata": {
  "kernelspec": {
   "display_name": "Python 3",
   "language": "python",
   "name": "python3"
  },
  "language_info": {
   "codemirror_mode": {
    "name": "ipython",
    "version": 3
   },
   "file_extension": ".py",
   "mimetype": "text/x-python",
   "name": "python",
   "nbconvert_exporter": "python",
   "pygments_lexer": "ipython3",
   "version": "3.6.8"
  }
 },
 "nbformat": 4,
 "nbformat_minor": 2
}
