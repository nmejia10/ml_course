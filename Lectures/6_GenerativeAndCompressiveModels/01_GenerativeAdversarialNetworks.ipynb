{
 "cells": [
  {
   "cell_type": "markdown",
   "metadata": {},
   "source": [
    "ML Course, Bogotá, Colombia  (&copy; Josh Bloom; June 2019)"
   ]
  },
  {
   "cell_type": "code",
   "execution_count": 1,
   "metadata": {},
   "outputs": [
    {
     "data": {
      "text/html": [
       "<style>\n",
       "\n",
       ".rendered_html\n",
       "{\n",
       "  color: #2C5494;\n",
       "  font-family: Ubuntu;\n",
       "  font-size: 140%;\n",
       "  line-height: 1.1;\n",
       "  margin: 0.5em 0;\n",
       "  }\n",
       "\n",
       ".talk_title\n",
       "{\n",
       "  color: #498AF3;\n",
       "  font-size: 250%;\n",
       "  font-weight:bold;\n",
       "  line-height: 1.2; \n",
       "  margin: 10px 50px 10px;\n",
       "  }\n",
       "\n",
       ".subtitle\n",
       "{\n",
       "  color: #386BBC;\n",
       "  font-size: 180%;\n",
       "  font-weight:bold;\n",
       "  line-height: 1.2; \n",
       "  margin: 20px 50px 20px;\n",
       "  }\n",
       "\n",
       ".slide-header, p.slide-header\n",
       "{\n",
       "  color: #498AF3;\n",
       "  font-size: 200%;\n",
       "  font-weight:bold;\n",
       "  margin: 0px 20px 10px;\n",
       "  page-break-before: always;\n",
       "  text-align: center;\n",
       "  }\n",
       "\n",
       ".rendered_html h1\n",
       "{\n",
       "  color: #498AF3;\n",
       "  line-height: 1.2; \n",
       "  margin: 0.15em 0em 0.5em;\n",
       "  page-break-before: always;\n",
       "  text-align: center;\n",
       "  }\n",
       "\n",
       "\n",
       ".rendered_html h2\n",
       "{ \n",
       "  color: #386BBC;\n",
       "  line-height: 1.2;\n",
       "  margin: 1.1em 0em 0.5em;\n",
       "  }\n",
       "\n",
       ".rendered_html h3\n",
       "{ \n",
       "  font-size: 100%;\n",
       "  line-height: 1.2;\n",
       "  margin: 1.1em 0em 0.5em;\n",
       "  }\n",
       "\n",
       ".rendered_html li\n",
       "{\n",
       "  line-height: 1.8;\n",
       "  }\n",
       "\n",
       ".input_prompt, .CodeMirror-lines, .output_area\n",
       "{\n",
       "  font-family: Consolas;\n",
       "  font-size: 120%;\n",
       "  }\n",
       "\n",
       ".gap-above\n",
       "{\n",
       "  padding-top: 200px;\n",
       "  }\n",
       "\n",
       ".gap01\n",
       "{\n",
       "  padding-top: 10px;\n",
       "  }\n",
       "\n",
       ".gap05\n",
       "{\n",
       "  padding-top: 50px;\n",
       "  }\n",
       "\n",
       ".gap1\n",
       "{\n",
       "  padding-top: 100px;\n",
       "  }\n",
       "\n",
       ".gap2\n",
       "{\n",
       "  padding-top: 200px;\n",
       "  }\n",
       "\n",
       ".gap3\n",
       "{\n",
       "  padding-top: 300px;\n",
       "  }\n",
       "\n",
       ".emph\n",
       "{\n",
       "  color: #386BBC;\n",
       "  }\n",
       "\n",
       ".warn\n",
       "{\n",
       "  color: red;\n",
       "  }\n",
       "\n",
       ".center\n",
       "{\n",
       "  text-align: center;\n",
       "  }\n",
       "\n",
       ".nb_link\n",
       "{\n",
       "    padding-bottom: 0.5em;\n",
       "}\n",
       "\n",
       "</style>"
      ],
      "text/plain": [
       "<IPython.core.display.HTML object>"
      ]
     },
     "metadata": {},
     "output_type": "display_data"
    }
   ],
   "source": [
    "%run ../talktools.py"
   ]
  },
  {
   "cell_type": "markdown",
   "metadata": {},
   "source": [
    "## Generative Adversarial Networks\n",
    "\n",
    "One of the downsides of VAEs is that the generated samples are interpolated between real samples as you walk through the latent space. This can lead to unrealistic looking images (what's half way between a shoe and a sweater?).\n",
    "\n",
    "<img src=\"imgs/gans.png\">\n",
    "Source: Mihaela Rosca, DeepMind\n",
    "\n",
    "Another way to create non-parametric generative models--with more realistic imagined samples--is with GANs. GANs are the result of a competition between a network which tries to generate realistic data (generator) and a network which tries to get learn how to distinguish between fake data and real data from the sample (discriminator).\n",
    "\n",
    "A really good set of tutorials on GANs: https://sites.google.com/view/cvpr2018tutorialongans/"
   ]
  },
  {
   "cell_type": "markdown",
   "metadata": {},
   "source": [
    "### The basic idea \n",
    "\n",
    "<img src=\"https://lilianweng.github.io/lil-log/assets/images/GAN.png\">\n",
    "\n",
    "**Let's Check out an Online Demo**: https://poloclub.github.io/ganlab/"
   ]
  },
  {
   "cell_type": "markdown",
   "metadata": {},
   "source": [
    "\n",
    "<img src=\"https://raw.githubusercontent.com/hindupuravinash/the-gan-zoo/master/cumulative_gans.jpg\">\n",
    "Source: https://github.com/hindupuravinash/the-gan-zoo\n",
    "\n",
    "<img src=\"imgs/faces.png\">\n",
    "Source: Ian Goodfellow\n",
    "\n",
    "\n",
    "By Dec 2018, extremely photorealistic images were able to be generated. An example of the high-quality results from the latest GAN work, the following pictures are not of real people but instead are generated:\n",
    "\n",
    "<img src=\"https://cdn.technologyreview.com/i/images/screen-shot-2018-12-14-at-10.13.53-am.png?sw=2544&cx=0&cy=0&cw=594&ch=262\">\n",
    "\n",
    "https://www.technologyreview.com/s/612612/these-incredibly-real-fake-faces-show-how-algorithms-can-now-mess-with-us/\n",
    "\n",
    "**Check this out**: https://thispersondoesnotexist.com/"
   ]
  },
  {
   "cell_type": "markdown",
   "metadata": {},
   "source": [
    "## So What Good Can You Do with GANs?\n",
    "\n",
    "(We'll note some of the less ethical uses in practice today in the last Lecture)\n",
    "\n",
    "** Useful to create inputs to simulations **\n",
    "\n",
    "<img src=\"http://www.yaronhadad.com/wp-content/uploads/2017/03/WEB_lead_Nguyen-and-Mandelbaum.jpg\">\n",
    "Source: AI-generated images of galaxies (left, lower of each pair) and volcanoes. Left: Figure: S. Ravanbakhsh/data: arxiv.org/abs/1609.05796; Right: Nguyen et al./arxiv.org/abs/1612.00005"
   ]
  },
  {
   "cell_type": "markdown",
   "metadata": {},
   "source": [
    "** Creativity and Marketing **\n",
    "\n",
    "<img src=\"https://github.com/maxorange/pix2vox/raw/master/img/sample.gif\">\n",
    "<img src=\"https://github.com/maxorange/pix2vox/raw/master/img/single-category-generation.png\">\n",
    "Pix2VOX: https://github.com/maxorange/pix2vox\n",
    "\n",
    "<img src=\"imgs/fashion.png\">"
   ]
  },
  {
   "cell_type": "markdown",
   "metadata": {},
   "source": [
    "** Inhancement / Superresolution **\n",
    "\n",
    "<img src=\"imgs/super.png\">"
   ]
  },
  {
   "cell_type": "code",
   "execution_count": null,
   "metadata": {},
   "outputs": [],
   "source": []
  }
 ],
 "metadata": {
  "kernelspec": {
   "display_name": "Python 3",
   "language": "python",
   "name": "python3"
  },
  "language_info": {
   "codemirror_mode": {
    "name": "ipython",
    "version": 3
   },
   "file_extension": ".py",
   "mimetype": "text/x-python",
   "name": "python",
   "nbconvert_exporter": "python",
   "pygments_lexer": "ipython3",
   "version": "3.6.8"
  }
 },
 "nbformat": 4,
 "nbformat_minor": 2
}
