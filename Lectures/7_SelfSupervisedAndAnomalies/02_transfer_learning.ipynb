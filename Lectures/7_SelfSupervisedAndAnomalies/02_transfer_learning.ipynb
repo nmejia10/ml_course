{
 "cells": [
  {
   "cell_type": "code",
   "execution_count": 107,
   "metadata": {},
   "outputs": [
    {
     "data": {
      "text/html": [
       "<style>\n",
       "\n",
       ".rendered_html\n",
       "{\n",
       "  color: #2C5494;\n",
       "  font-family: Ubuntu;\n",
       "  font-size: 140%;\n",
       "  line-height: 1.1;\n",
       "  margin: 0.5em 0;\n",
       "  }\n",
       "\n",
       ".talk_title\n",
       "{\n",
       "  color: #498AF3;\n",
       "  font-size: 250%;\n",
       "  font-weight:bold;\n",
       "  line-height: 1.2; \n",
       "  margin: 10px 50px 10px;\n",
       "  }\n",
       "\n",
       ".subtitle\n",
       "{\n",
       "  color: #386BBC;\n",
       "  font-size: 180%;\n",
       "  font-weight:bold;\n",
       "  line-height: 1.2; \n",
       "  margin: 20px 50px 20px;\n",
       "  }\n",
       "\n",
       ".slide-header, p.slide-header\n",
       "{\n",
       "  color: #498AF3;\n",
       "  font-size: 200%;\n",
       "  font-weight:bold;\n",
       "  margin: 0px 20px 10px;\n",
       "  page-break-before: always;\n",
       "  text-align: center;\n",
       "  }\n",
       "\n",
       ".rendered_html h1\n",
       "{\n",
       "  color: #498AF3;\n",
       "  line-height: 1.2; \n",
       "  margin: 0.15em 0em 0.5em;\n",
       "  page-break-before: always;\n",
       "  text-align: center;\n",
       "  }\n",
       "\n",
       "\n",
       ".rendered_html h2\n",
       "{ \n",
       "  color: #386BBC;\n",
       "  line-height: 1.2;\n",
       "  margin: 1.1em 0em 0.5em;\n",
       "  }\n",
       "\n",
       ".rendered_html h3\n",
       "{ \n",
       "  font-size: 100%;\n",
       "  line-height: 1.2;\n",
       "  margin: 1.1em 0em 0.5em;\n",
       "  }\n",
       "\n",
       ".rendered_html li\n",
       "{\n",
       "  line-height: 1.8;\n",
       "  }\n",
       "\n",
       ".input_prompt, .CodeMirror-lines, .output_area\n",
       "{\n",
       "  font-family: Consolas;\n",
       "  font-size: 120%;\n",
       "  }\n",
       "\n",
       ".gap-above\n",
       "{\n",
       "  padding-top: 200px;\n",
       "  }\n",
       "\n",
       ".gap01\n",
       "{\n",
       "  padding-top: 10px;\n",
       "  }\n",
       "\n",
       ".gap05\n",
       "{\n",
       "  padding-top: 50px;\n",
       "  }\n",
       "\n",
       ".gap1\n",
       "{\n",
       "  padding-top: 100px;\n",
       "  }\n",
       "\n",
       ".gap2\n",
       "{\n",
       "  padding-top: 200px;\n",
       "  }\n",
       "\n",
       ".gap3\n",
       "{\n",
       "  padding-top: 300px;\n",
       "  }\n",
       "\n",
       ".emph\n",
       "{\n",
       "  color: #386BBC;\n",
       "  }\n",
       "\n",
       ".warn\n",
       "{\n",
       "  color: red;\n",
       "  }\n",
       "\n",
       ".center\n",
       "{\n",
       "  text-align: center;\n",
       "  }\n",
       "\n",
       ".nb_link\n",
       "{\n",
       "    padding-bottom: 0.5em;\n",
       "}\n",
       "\n",
       "</style>"
      ],
      "text/plain": [
       "<IPython.core.display.HTML object>"
      ]
     },
     "metadata": {},
     "output_type": "display_data"
    },
    {
     "data": {
      "text/plain": [
       "<Figure size 432x288 with 0 Axes>"
      ]
     },
     "metadata": {},
     "output_type": "display_data"
    }
   ],
   "source": [
    "%run ../talktools.py"
   ]
  },
  {
   "cell_type": "markdown",
   "metadata": {},
   "source": [
    "# Transfer Learning\n",
    "\n",
    "So far, we've focused on building features and learning models using the data we wish to predict on. This makes a lot of sense for most of our problems: we directly optimize the thing (metric) we care about using the optimization machinery of `keras`, `sklearn`, etc.\n",
    "\n",
    "However, there are times when we might not want to do this (or dont need to). \n",
    "\n",
    "- Perhaps the model training time is very long and we're impatient\n",
    "- Perhaps the task we're working on is so similar to a task we've already solved\n",
    "- Perhaps we don't have enough training data to learn a credible model\n",
    "\n",
    "This is where **transfer learning** comes in. The idea is to use another model to help us solve our current task.\n",
    "\n",
    "We've already seen this a bit: yesterday we took the intermediate layers of an auto-encoder (trained to get good image reconstruction) to build a random forest model with the bottleneck features. We also used pretrained vectors (word2vec) to featurize documents into vectors (NLP)."
   ]
  },
  {
   "cell_type": "markdown",
   "metadata": {},
   "source": [
    "There are two regimes where you might use transfer learning:\n",
    "\n",
    "- data and predictions from another model are very similar to what data you have and want to predict (e.g., use an off-the-shelf 2D convnet model trained on cats and dogs to predict if you image has a cat and dog in it).\n",
    "\n",
    "- data input is similar to your data input but the predictions are different\n",
    "\n",
    "Depending on how much training data you have and how similar your problem is you might try different approaches:\n",
    "\n",
    "<img src=\"https://s3-ap-south-1.amazonaws.com/av-blog-media/wp-content/uploads/2017/05/31112715/finetune1.jpg\">\n",
    "Source: https://www.analyticsvidhya.com/blog/2017/06/transfer-learning-the-art-of-fine-tuning-a-pre-trained-model/"
   ]
  },
  {
   "cell_type": "markdown",
   "metadata": {},
   "source": [
    "`tensorflow.keras.applications` contain deep learning models that are made available alongside pre-trained weights. These models can be used for prediction, feature extraction, and fine-tuning. Weights are downloaded automatically when instantiating a model. They are stored at `~/.keras/models/.`\n",
    "\n",
    "Models for image classification with weights trained on ImageNet:\n",
    " - Xception\n",
    " - VGG16\n",
    " - VGG19\n",
    " - ResNet, ResNetV2, ResNeXt\n",
    " - InceptionV3\n",
    " - InceptionResNetV2\n",
    " - MobileNet\n",
    " - MobileNetV2\n",
    " - DenseNet\n",
    " - NASNet\n",
    " \n",
    " E.g., VGG16:\n",
    " <img src=\"https://qph.fs.quoracdn.net/main-qimg-e657c195fc2696c7d5fc0b1e3682fde6\">\n",
    " \n",
    " E.g., MobileNet\n",
    " \n",
    " <img src=\"https://cdn-images-1.medium.com/max/1600/1*lrxsPkbVrrIPVmr7jy-noA.png\">\n",
    " \n",
    " The following is a modified version of the workflow in https://towardsdatascience.com/transfer-learning-using-mobilenet-and-keras-c75daf7ff299"
   ]
  },
  {
   "cell_type": "code",
   "execution_count": null,
   "metadata": {},
   "outputs": [],
   "source": [
    "%matplotlib inline"
   ]
  },
  {
   "cell_type": "code",
   "execution_count": null,
   "metadata": {},
   "outputs": [],
   "source": [
    "import numpy as np\n",
    "import matplotlib.pyplot as plt\n",
    "from IPython.display import Image\n",
    "\n",
    "import tensorflow.keras\n",
    "from tensorflow.keras import backend as K\n",
    "from tensorflow.keras.layers import Dense, Activation, Input\n",
    "from tensorflow.keras.optimizers import Adam\n",
    "from tensorflow.keras.metrics import categorical_crossentropy\n",
    "from tensorflow.keras.preprocessing.image import ImageDataGenerator\n",
    "from tensorflow.keras.preprocessing import image\n",
    "from tensorflow.keras.models import Model\n",
    "from tensorflow.keras.applications.mobilenet_v2 import preprocess_input, decode_predictions\n",
    "from tensorflow.keras.layers import Dense,GlobalAveragePooling2D\n",
    "from tensorflow.keras.applications import mobilenet_v2\n",
    "\n",
    "from tensorflow.keras.optimizers import Adam"
   ]
  },
  {
   "cell_type": "code",
   "execution_count": null,
   "metadata": {},
   "outputs": [],
   "source": [
    "mobile = tensorflow.keras.applications.mobilenet_v2.MobileNetV2()"
   ]
  },
  {
   "cell_type": "code",
   "execution_count": null,
   "metadata": {},
   "outputs": [],
   "source": [
    "def prepare_image_file(file):\n",
    "    img_path = \"\"\n",
    "    img = image.load_img(img_path + file, target_size=(224, 224))\n",
    "    img_array = image.img_to_array(img)\n",
    "    img_array_expanded_dims = np.expand_dims(img_array, axis=0)\n",
    "    return tensorflow.keras.applications.mobilenet_v2.preprocess_input(img_array_expanded_dims)\n",
    "\n",
    "from skimage.color import gray2rgb\n",
    "from skimage.transform import resize\n",
    "\n",
    "def prepare_gray_array(arr):\n",
    "    arr = resize(arr, (224, 224))\n",
    "    arr = gray2rgb(arr)\n",
    "    img_array_expanded_dims = np.expand_dims(arr, axis=0)\n",
    "    return tensorflow.keras.applications.mobilenet_v2.preprocess_input(img_array_expanded_dims)"
   ]
  },
  {
   "cell_type": "code",
   "execution_count": null,
   "metadata": {},
   "outputs": [],
   "source": [
    "Image(filename='imgs/German_Shepherd.jpg')"
   ]
  },
  {
   "cell_type": "code",
   "execution_count": null,
   "metadata": {},
   "outputs": [],
   "source": [
    "preprocessed_image = prepare_image_file('imgs/German_Shepherd.jpg')\n",
    "predictions = mobile.predict(preprocessed_image)\n",
    "results = decode_predictions(predictions)\n",
    "results"
   ]
  },
  {
   "cell_type": "code",
   "execution_count": null,
   "metadata": {},
   "outputs": [],
   "source": [
    "preprocessed_image.shape"
   ]
  },
  {
   "cell_type": "markdown",
   "metadata": {},
   "source": [
    "How do you think we'll do on fashion MNIST?"
   ]
  },
  {
   "cell_type": "code",
   "execution_count": null,
   "metadata": {},
   "outputs": [],
   "source": [
    "from tensorflow.keras.utils import to_categorical\n",
    "\n",
    "fashion_mnist = tensorflow.keras.datasets.fashion_mnist\n",
    "\n",
    "nb_classes = 10\n",
    "batch_size = 32\n",
    "\n",
    "(x_train, y_train),(x_test, y_test) = fashion_mnist.load_data()\n",
    "# x_train, x_test = x_train / 255.0, x_test / 255.0  # scale the images to 0-1\n",
    "\n",
    "x_train = np.reshape(x_train, (len(x_train), 28, 28, 1))  # adapt this if using `channels_first` image data format\n",
    "x_test = np.reshape(x_test, (len(x_test), 28, 28, 1))  # adapt this if using `channels_first` image data format\n",
    "\n",
    "# convert class vectors to binary class matrices\n",
    "Y_train =  to_categorical(y_train, nb_classes)\n",
    "Y_test =  to_categorical(y_test, nb_classes)\n",
    "\n",
    "input_shape = x_train[0].shape  + (1,)\n",
    "input_shape\n",
    "input_img = Input(shape = (28, 28, 1))"
   ]
  },
  {
   "cell_type": "code",
   "execution_count": null,
   "metadata": {},
   "outputs": [],
   "source": [
    "plt.imshow((x_train[0,:,:,0]))"
   ]
  },
  {
   "cell_type": "code",
   "execution_count": null,
   "metadata": {},
   "outputs": [],
   "source": [
    "arr = x_train[0,:,:,0]\n",
    "arr_out = prepare_gray_array(arr)\n",
    "plt.imshow(arr_out[0,:,:,2])"
   ]
  },
  {
   "cell_type": "code",
   "execution_count": null,
   "metadata": {},
   "outputs": [],
   "source": [
    "preprocessed_image =prepare_gray_array(arr)\n",
    "predictions = mobile.predict(preprocessed_image)\n",
    "results = decode_predictions(predictions)\n",
    "results"
   ]
  },
  {
   "cell_type": "markdown",
   "metadata": {},
   "source": [
    "We might still be able to use this to classify our sources"
   ]
  },
  {
   "cell_type": "code",
   "execution_count": null,
   "metadata": {},
   "outputs": [],
   "source": [
    "from tensorflow.keras.applications import MobileNetV2\n",
    "\n",
    "base_model= MobileNetV2(weights='imagenet', include_top=False) #imports the mobilenet model and discards the last 1000 neuron layer.\n",
    "\n",
    "x=base_model.output\n",
    "x=GlobalAveragePooling2D()(x)\n",
    "x=Dense(32,activation='relu')(x) #dense layer 3\n",
    "preds=Dense(10,activation='softmax')(x) #final layer with softmax activation\n",
    "\n",
    "model=Model(inputs=base_model.input,outputs=preds)\n",
    "for i,layer in enumerate(model.layers):\n",
    "  print(i,layer.name, layer.trainable)"
   ]
  },
  {
   "cell_type": "markdown",
   "metadata": {},
   "source": [
    "Let's make sure that all the weights are non-trainable. We will only train the last few dense layers."
   ]
  },
  {
   "cell_type": "code",
   "execution_count": null,
   "metadata": {},
   "outputs": [],
   "source": [
    "for layer in model.layers[:156]:\n",
    "    layer.trainable=False\n",
    "for layer in model.layers[156:]:\n",
    "    layer.trainable=True\n",
    "\n",
    "for i,layer in enumerate(model.layers):\n",
    "  print(i,layer.name, layer.trainable)"
   ]
  },
  {
   "cell_type": "code",
   "execution_count": null,
   "metadata": {},
   "outputs": [],
   "source": [
    "train_x_conv = []\n",
    "for x in x_train[:3000]:\n",
    "    arr = resize(x[:,:,0], (224, 224))\n",
    "    arr = gray2rgb(arr)\n",
    "    train_x_conv.append(arr)\n",
    "train_x_conv  = np.array(train_x_conv)"
   ]
  },
  {
   "cell_type": "code",
   "execution_count": null,
   "metadata": {},
   "outputs": [],
   "source": [
    "train_x_conv.shape"
   ]
  },
  {
   "cell_type": "code",
   "execution_count": null,
   "metadata": {},
   "outputs": [],
   "source": [
    "model.compile(optimizer='Adam',loss='categorical_crossentropy',metrics=['accuracy'])\n",
    "\n",
    "model.fit(x=train_x_conv, \n",
    "          y=Y_train[:3000], \n",
    "          epochs=20,\n",
    "          batch_size=batch_size)"
   ]
  },
  {
   "cell_type": "markdown",
   "metadata": {},
   "source": [
    "how did we do relative to directly learning a model on the data itself?"
   ]
  },
  {
   "cell_type": "markdown",
   "metadata": {},
   "source": [
    "## Transfer Learning in NLP"
   ]
  },
  {
   "cell_type": "code",
   "execution_count": 1,
   "metadata": {},
   "outputs": [
    {
     "data": {
      "text/html": [
       "<blockquote class=\"twitter-tweet\"><p lang=\"en\" dir=\"ltr\">Here are the materials for our <a href=\"https://twitter.com/NAACLHLT?ref_src=twsrc%5Etfw\">@NAACLHLT</a> tutorial on Transfer Learning in NLP with <a href=\"https://twitter.com/Thom_Wolf?ref_src=twsrc%5Etfw\">@Thom_Wolf</a> <a href=\"https://twitter.com/swabhz?ref_src=twsrc%5Etfw\">@swabhz</a> <a href=\"https://twitter.com/mattthemathman?ref_src=twsrc%5Etfw\">@mattthemathman</a>:<br>Slides: <a href=\"https://t.co/54KVG0K85z\">https://t.co/54KVG0K85z</a><br>Colab: <a href=\"https://t.co/iqWPtVFSVg\">https://t.co/iqWPtVFSVg</a><br>Code: <a href=\"https://t.co/bka5EsuYtP\">https://t.co/bka5EsuYtP</a><a href=\"https://twitter.com/hashtag/NAACLTransfer?src=hash&amp;ref_src=twsrc%5Etfw\">#NAACLTransfer</a> <a href=\"https://t.co/6wPZu9bmc7\">pic.twitter.com/6wPZu9bmc7</a></p>&mdash; Sebastian Ruder (@seb_ruder) <a href=\"https://twitter.com/seb_ruder/status/1135223959828537344?ref_src=twsrc%5Etfw\">June 2, 2019</a></blockquote> <script async src=\"https://platform.twitter.com/widgets.js\" charset=\"utf-8\"></script>\n",
       "                            "
      ],
      "text/plain": [
       "<IPython.core.display.HTML object>"
      ]
     },
     "metadata": {},
     "output_type": "display_data"
    }
   ],
   "source": [
    "%%html\n",
    "<blockquote class=\"twitter-tweet\"><p lang=\"en\" dir=\"ltr\">Here are the materials for our <a href=\"https://twitter.com/NAACLHLT?ref_src=twsrc%5Etfw\">@NAACLHLT</a> tutorial on Transfer Learning in NLP with <a href=\"https://twitter.com/Thom_Wolf?ref_src=twsrc%5Etfw\">@Thom_Wolf</a> <a href=\"https://twitter.com/swabhz?ref_src=twsrc%5Etfw\">@swabhz</a> <a href=\"https://twitter.com/mattthemathman?ref_src=twsrc%5Etfw\">@mattthemathman</a>:<br>Slides: <a href=\"https://t.co/54KVG0K85z\">https://t.co/54KVG0K85z</a><br>Colab: <a href=\"https://t.co/iqWPtVFSVg\">https://t.co/iqWPtVFSVg</a><br>Code: <a href=\"https://t.co/bka5EsuYtP\">https://t.co/bka5EsuYtP</a><a href=\"https://twitter.com/hashtag/NAACLTransfer?src=hash&amp;ref_src=twsrc%5Etfw\">#NAACLTransfer</a> <a href=\"https://t.co/6wPZu9bmc7\">pic.twitter.com/6wPZu9bmc7</a></p>&mdash; Sebastian Ruder (@seb_ruder) <a href=\"https://twitter.com/seb_ruder/status/1135223959828537344?ref_src=twsrc%5Etfw\">June 2, 2019</a></blockquote> <script async src=\"https://platform.twitter.com/widgets.js\" charset=\"utf-8\"></script>\n",
    "                            "
   ]
  },
  {
   "cell_type": "code",
   "execution_count": null,
   "metadata": {},
   "outputs": [],
   "source": []
  }
 ],
 "metadata": {
  "kernelspec": {
   "display_name": "Python 3",
   "language": "python",
   "name": "python3"
  },
  "language_info": {
   "codemirror_mode": {
    "name": "ipython",
    "version": 3
   },
   "file_extension": ".py",
   "mimetype": "text/x-python",
   "name": "python",
   "nbconvert_exporter": "python",
   "pygments_lexer": "ipython3",
   "version": "3.6.8"
  }
 },
 "nbformat": 4,
 "nbformat_minor": 2
}
