{
 "cells": [
  {
   "cell_type": "markdown",
   "metadata": {},
   "source": [
    "## Regression: Breakout ##\n",
    "\n",
    "**ML Course (Bogotá, Colombia, J. Bloom, 2019)**"
   ]
  },
  {
   "cell_type": "markdown",
   "metadata": {},
   "source": [
    "<img src=\"https://upload.wikimedia.org/wikipedia/commons/2/20/Columbia-Aquidneck-2011.jpg\" width=80%>\n",
    "\n",
    "A yacht named \"Columbia\" (not Colombia  😏) was used to win the [America's Cup in 1958](https://en.wikipedia.org/wiki/1958_America%27s_Cup). Technology has improved a lot since then. In this breakout, you're going making a predictive model to determine the resistance of a boat given it's geometry and speed. This is usually only measureable with advanced simulations but we can get <a href=\"http://archive.ics.uci.edu/ml/datasets/Yacht+Hydrodynamics\">7-dimensional data to build a model</a> and then determine this value for arbitrary new boat design:\n",
    "\n",
    "<ul>\n",
    "<li> *Prediction of residuary resistance of sailing yachts at the initial design stage is of a great value for evaluating the ship's performance and for estimating the required propulsive power. Essential inputs include the basic hull dimensions and the boat velocity.  The Delft data set comprises 308 full-scale experiments, which were performed at the Delft Ship Hydromechanics Laboratory for that purpose. These experiments include 22 different hull forms...*\n",
    "</ul>"
   ]
  },
  {
   "cell_type": "markdown",
   "metadata": {},
   "source": [
    "Variations concern hull geometry coefficients and the Froude number: \n",
    "\n",
    "1. Longitudinal position of the center of buoyancy. \n",
    "2. Prismatic coefficient. \n",
    "3. Length-displacement ratio. \n",
    "4. Beam-draught ratio. \n",
    "5. Length-beam ratio. \n",
    "6. Froude number. \n",
    "\n",
    "The measured variable is the residuary resistance per unit weight of displacement: \n",
    "\n",
    "7. Residuary resistance per unit weight of displacement, adimensional. "
   ]
  },
  {
   "cell_type": "code",
   "execution_count": null,
   "metadata": {},
   "outputs": [],
   "source": [
    "import requests\n",
    "from io import StringIO\n",
    "dat_file = requests.get(\"http://archive.ics.uci.edu/ml/machine-learning-databases/00243/yacht_hydrodynamics.data\")\n",
    "data = StringIO(dat_file.text)"
   ]
  },
  {
   "cell_type": "code",
   "execution_count": null,
   "metadata": {},
   "outputs": [],
   "source": [
    "%matplotlib inline\n",
    "import matplotlib.pyplot as plt\n",
    "import numpy as np\n",
    "\n",
    "d = np.loadtxt(data)\n",
    "np.random.shuffle(d)  # shuffle the instances since it appears to be ordered"
   ]
  },
  {
   "cell_type": "markdown",
   "metadata": {},
   "source": [
    "a. Chunk the data into the variable you are going to predict (and call that vector Y). Split into a training set with 90% of the complete data and 10% testing set. Be sure to scale the feature data."
   ]
  },
  {
   "cell_type": "code",
   "execution_count": null,
   "metadata": {},
   "outputs": [],
   "source": [
    "import math \n",
    "Y = d[:,6]\n",
    "X = d[:,:6]\n",
    "cut =   # FIXME: use 90% of the data for training\n",
    "\n",
    "from sklearn import preprocessing\n",
    "\n",
    "X_scaled = preprocessing.scale(X) # many methods work better on scaled X\n",
    "train_X = X_scaled[:cut]\n",
    "train_Y = Y[:cut]\n",
    "test_X = X_scaled[cut:]\n",
    "test_Y = Y[cut:]"
   ]
  },
  {
   "cell_type": "markdown",
   "metadata": {},
   "source": [
    "b. Learn/fit a kNNR model with k=5"
   ]
  },
  {
   "cell_type": "code",
   "execution_count": null,
   "metadata": {},
   "outputs": [],
   "source": [
    "from sklearn import neighbors\n",
    "\n",
    "# FIXME"
   ]
  },
  {
   "cell_type": "markdown",
   "metadata": {},
   "source": [
    "c. Determine the mean_squared error of the result"
   ]
  },
  {
   "cell_type": "code",
   "execution_count": null,
   "metadata": {},
   "outputs": [],
   "source": [
    "from sklearn.metrics import mean_squared_error\n",
    "\n",
    "# FIXME"
   ]
  },
  {
   "cell_type": "markdown",
   "metadata": {},
   "source": [
    "d. What MSE would we expect from (naively) guessing the mean of the training data?"
   ]
  },
  {
   "cell_type": "code",
   "execution_count": null,
   "metadata": {},
   "outputs": [],
   "source": [
    "mean_squared_error(test_Y,Y.mean()*np.ones(test_Y.shape))"
   ]
  },
  {
   "cell_type": "markdown",
   "metadata": {},
   "source": [
    "e. If time, try to be a `RandomForestRegressor` model. We'll learn about RFs later. How did you do?"
   ]
  },
  {
   "cell_type": "code",
   "execution_count": null,
   "metadata": {},
   "outputs": [],
   "source": [
    "from sklearn.ensemble import RandomForestRegressor\n",
    "clf = RandomForestRegressor()"
   ]
  },
  {
   "cell_type": "code",
   "execution_count": null,
   "metadata": {},
   "outputs": [],
   "source": [
    "# FIXME"
   ]
  },
  {
   "cell_type": "code",
   "execution_count": null,
   "metadata": {},
   "outputs": [],
   "source": []
  }
 ],
 "metadata": {
  "kernelspec": {
   "display_name": "Python 3",
   "language": "python",
   "name": "python3"
  },
  "language_info": {
   "codemirror_mode": {
    "name": "ipython",
    "version": 3
   },
   "file_extension": ".py",
   "mimetype": "text/x-python",
   "name": "python",
   "nbconvert_exporter": "python",
   "pygments_lexer": "ipython3",
   "version": "3.6.8"
  }
 },
 "nbformat": 4,
 "nbformat_minor": 2
}
